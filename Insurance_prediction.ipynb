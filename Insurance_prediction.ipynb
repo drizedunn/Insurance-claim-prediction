{
  "cells": [
    {
      "cell_type": "markdown",
      "metadata": {
        "id": "uu2UtLv5IqZI"
      },
      "source": [
        "# Insurance Prediction\n",
        "\n",
        "Predicting the probability of a building having an insurance claim during a certain period of time. i.e predicting the probability of a building having at least one claim over the insured period of the building."
      ]
    },
    {
      "cell_type": "code",
      "execution_count": null,
      "metadata": {
        "id": "yGzLfmTwVjrq"
      },
      "outputs": [],
      "source": [
        "# ! pip install catboost\n",
        "# ! pip install xgboost\n",
        "# ! pip install lightgbm\n",
        "# ! pip install shap"
      ]
    },
    {
      "cell_type": "code",
      "execution_count": 2,
      "metadata": {
        "id": "G1xvaQPYC9VE"
      },
      "outputs": [],
      "source": [
        "# Importing the needed library\n",
        "import pandas as pd\n",
        "import numpy as np\n",
        "import matplotlib.pyplot as plt\n",
        "import seaborn as sns\n",
        "import shap\n",
        "\n",
        "from sklearn.preprocessing import OrdinalEncoder\n",
        "from sklearn.preprocessing import StandardScaler, MinMaxScaler\n",
        "from sklearn.metrics import accuracy_score, f1_score, precision_score, recall_score\n",
        "from sklearn.ensemble import RandomForestClassifier\n",
        "from catboost import CatBoostClassifier\n",
        "from lightgbm import LGBMClassifier\n",
        "from xgboost import XGBClassifier\n",
        "from sklearn.model_selection import train_test_split, KFold, StratifiedKFold\n",
        "\n",
        "plt.style.use('seaborn')\n",
        "%matplotlib inline"
      ]
    },
    {
      "cell_type": "code",
      "execution_count": 3,
      "metadata": {
        "id": "Vdh9gnOOI43D"
      },
      "outputs": [],
      "source": [
        "# Loading the data\n",
        "train = pd.read_csv('/content/drive/MyDrive/Datasets/data-science-nigeria-2019-challenge-1-insurance-prediction/train_data.csv')\n",
        "test = pd.read_csv('/content/drive/MyDrive/Datasets/data-science-nigeria-2019-challenge-1-insurance-prediction/test_data.csv')\n",
        "var_desc = pd.read_csv('/content/drive/MyDrive/Datasets/data-science-nigeria-2019-challenge-1-insurance-prediction/VariableDescription.csv')\n",
        "samsub = pd.read_csv('/content/drive/MyDrive/Datasets/data-science-nigeria-2019-challenge-1-insurance-prediction/SampleSubmission.csv')"
      ]
    },
    {
      "cell_type": "code",
      "execution_count": 4,
      "metadata": {
        "colab": {
          "base_uri": "https://localhost:8080/",
          "height": 488
        },
        "id": "VT8WoNvqy0Wp",
        "outputId": "cecf3c02-ee76-4864-b683-44d3c5f94792"
      },
      "outputs": [
        {
          "output_type": "execute_result",
          "data": {
            "text/plain": [
              "              Variable                                        Description\n",
              "0          Customer Id        Identification number for the Policy holder\n",
              "1    YearOfObservation         year of observation for the insured policy\n",
              "2       Insured_Period  duration of insurance policy in Olusola Insura...\n",
              "3          Residential      is the building a residential building or not\n",
              "4     Building_Painted  is the building painted or not (N-Painted, V-N...\n",
              "5      Building_Fenced  is the building fence or not (N-Fenced, V-Not ...\n",
              "6               Garden  building has garden or not (V-has garden; O-no...\n",
              "7           Settlement  Area where the building is located. (R- rural ...\n",
              "8   Building Dimension                 Size of the insured building in m2\n",
              "9        Building_Type             The type of building (Type 1, 2, 3, 4)\n",
              "10   Date_of_Occupancy                   date building was first occupied\n",
              "11     NumberOfWindows                  number of windows in the building\n",
              "12            Geo Code          Geographical Code of the Insured building\n",
              "13               Claim  target variable. (0: no claim, 1: at least one..."
            ],
            "text/html": [
              "\n",
              "  <div id=\"df-97b0f3f5-fe82-4f68-99e9-665ff6b09146\">\n",
              "    <div class=\"colab-df-container\">\n",
              "      <div>\n",
              "<style scoped>\n",
              "    .dataframe tbody tr th:only-of-type {\n",
              "        vertical-align: middle;\n",
              "    }\n",
              "\n",
              "    .dataframe tbody tr th {\n",
              "        vertical-align: top;\n",
              "    }\n",
              "\n",
              "    .dataframe thead th {\n",
              "        text-align: right;\n",
              "    }\n",
              "</style>\n",
              "<table border=\"1\" class=\"dataframe\">\n",
              "  <thead>\n",
              "    <tr style=\"text-align: right;\">\n",
              "      <th></th>\n",
              "      <th>Variable</th>\n",
              "      <th>Description</th>\n",
              "    </tr>\n",
              "  </thead>\n",
              "  <tbody>\n",
              "    <tr>\n",
              "      <th>0</th>\n",
              "      <td>Customer Id</td>\n",
              "      <td>Identification number for the Policy holder</td>\n",
              "    </tr>\n",
              "    <tr>\n",
              "      <th>1</th>\n",
              "      <td>YearOfObservation</td>\n",
              "      <td>year of observation for the insured policy</td>\n",
              "    </tr>\n",
              "    <tr>\n",
              "      <th>2</th>\n",
              "      <td>Insured_Period</td>\n",
              "      <td>duration of insurance policy in Olusola Insura...</td>\n",
              "    </tr>\n",
              "    <tr>\n",
              "      <th>3</th>\n",
              "      <td>Residential</td>\n",
              "      <td>is the building a residential building or not</td>\n",
              "    </tr>\n",
              "    <tr>\n",
              "      <th>4</th>\n",
              "      <td>Building_Painted</td>\n",
              "      <td>is the building painted or not (N-Painted, V-N...</td>\n",
              "    </tr>\n",
              "    <tr>\n",
              "      <th>5</th>\n",
              "      <td>Building_Fenced</td>\n",
              "      <td>is the building fence or not (N-Fenced, V-Not ...</td>\n",
              "    </tr>\n",
              "    <tr>\n",
              "      <th>6</th>\n",
              "      <td>Garden</td>\n",
              "      <td>building has garden or not (V-has garden; O-no...</td>\n",
              "    </tr>\n",
              "    <tr>\n",
              "      <th>7</th>\n",
              "      <td>Settlement</td>\n",
              "      <td>Area where the building is located. (R- rural ...</td>\n",
              "    </tr>\n",
              "    <tr>\n",
              "      <th>8</th>\n",
              "      <td>Building Dimension</td>\n",
              "      <td>Size of the insured building in m2</td>\n",
              "    </tr>\n",
              "    <tr>\n",
              "      <th>9</th>\n",
              "      <td>Building_Type</td>\n",
              "      <td>The type of building (Type 1, 2, 3, 4)</td>\n",
              "    </tr>\n",
              "    <tr>\n",
              "      <th>10</th>\n",
              "      <td>Date_of_Occupancy</td>\n",
              "      <td>date building was first occupied</td>\n",
              "    </tr>\n",
              "    <tr>\n",
              "      <th>11</th>\n",
              "      <td>NumberOfWindows</td>\n",
              "      <td>number of windows in the building</td>\n",
              "    </tr>\n",
              "    <tr>\n",
              "      <th>12</th>\n",
              "      <td>Geo Code</td>\n",
              "      <td>Geographical Code of the Insured building</td>\n",
              "    </tr>\n",
              "    <tr>\n",
              "      <th>13</th>\n",
              "      <td>Claim</td>\n",
              "      <td>target variable. (0: no claim, 1: at least one...</td>\n",
              "    </tr>\n",
              "  </tbody>\n",
              "</table>\n",
              "</div>\n",
              "      <button class=\"colab-df-convert\" onclick=\"convertToInteractive('df-97b0f3f5-fe82-4f68-99e9-665ff6b09146')\"\n",
              "              title=\"Convert this dataframe to an interactive table.\"\n",
              "              style=\"display:none;\">\n",
              "        \n",
              "  <svg xmlns=\"http://www.w3.org/2000/svg\" height=\"24px\"viewBox=\"0 0 24 24\"\n",
              "       width=\"24px\">\n",
              "    <path d=\"M0 0h24v24H0V0z\" fill=\"none\"/>\n",
              "    <path d=\"M18.56 5.44l.94 2.06.94-2.06 2.06-.94-2.06-.94-.94-2.06-.94 2.06-2.06.94zm-11 1L8.5 8.5l.94-2.06 2.06-.94-2.06-.94L8.5 2.5l-.94 2.06-2.06.94zm10 10l.94 2.06.94-2.06 2.06-.94-2.06-.94-.94-2.06-.94 2.06-2.06.94z\"/><path d=\"M17.41 7.96l-1.37-1.37c-.4-.4-.92-.59-1.43-.59-.52 0-1.04.2-1.43.59L10.3 9.45l-7.72 7.72c-.78.78-.78 2.05 0 2.83L4 21.41c.39.39.9.59 1.41.59.51 0 1.02-.2 1.41-.59l7.78-7.78 2.81-2.81c.8-.78.8-2.07 0-2.86zM5.41 20L4 18.59l7.72-7.72 1.47 1.35L5.41 20z\"/>\n",
              "  </svg>\n",
              "      </button>\n",
              "      \n",
              "  <style>\n",
              "    .colab-df-container {\n",
              "      display:flex;\n",
              "      flex-wrap:wrap;\n",
              "      gap: 12px;\n",
              "    }\n",
              "\n",
              "    .colab-df-convert {\n",
              "      background-color: #E8F0FE;\n",
              "      border: none;\n",
              "      border-radius: 50%;\n",
              "      cursor: pointer;\n",
              "      display: none;\n",
              "      fill: #1967D2;\n",
              "      height: 32px;\n",
              "      padding: 0 0 0 0;\n",
              "      width: 32px;\n",
              "    }\n",
              "\n",
              "    .colab-df-convert:hover {\n",
              "      background-color: #E2EBFA;\n",
              "      box-shadow: 0px 1px 2px rgba(60, 64, 67, 0.3), 0px 1px 3px 1px rgba(60, 64, 67, 0.15);\n",
              "      fill: #174EA6;\n",
              "    }\n",
              "\n",
              "    [theme=dark] .colab-df-convert {\n",
              "      background-color: #3B4455;\n",
              "      fill: #D2E3FC;\n",
              "    }\n",
              "\n",
              "    [theme=dark] .colab-df-convert:hover {\n",
              "      background-color: #434B5C;\n",
              "      box-shadow: 0px 1px 3px 1px rgba(0, 0, 0, 0.15);\n",
              "      filter: drop-shadow(0px 1px 2px rgba(0, 0, 0, 0.3));\n",
              "      fill: #FFFFFF;\n",
              "    }\n",
              "  </style>\n",
              "\n",
              "      <script>\n",
              "        const buttonEl =\n",
              "          document.querySelector('#df-97b0f3f5-fe82-4f68-99e9-665ff6b09146 button.colab-df-convert');\n",
              "        buttonEl.style.display =\n",
              "          google.colab.kernel.accessAllowed ? 'block' : 'none';\n",
              "\n",
              "        async function convertToInteractive(key) {\n",
              "          const element = document.querySelector('#df-97b0f3f5-fe82-4f68-99e9-665ff6b09146');\n",
              "          const dataTable =\n",
              "            await google.colab.kernel.invokeFunction('convertToInteractive',\n",
              "                                                     [key], {});\n",
              "          if (!dataTable) return;\n",
              "\n",
              "          const docLinkHtml = 'Like what you see? Visit the ' +\n",
              "            '<a target=\"_blank\" href=https://colab.research.google.com/notebooks/data_table.ipynb>data table notebook</a>'\n",
              "            + ' to learn more about interactive tables.';\n",
              "          element.innerHTML = '';\n",
              "          dataTable['output_type'] = 'display_data';\n",
              "          await google.colab.output.renderOutput(dataTable, element);\n",
              "          const docLink = document.createElement('div');\n",
              "          docLink.innerHTML = docLinkHtml;\n",
              "          element.appendChild(docLink);\n",
              "        }\n",
              "      </script>\n",
              "    </div>\n",
              "  </div>\n",
              "  "
            ]
          },
          "metadata": {},
          "execution_count": 4
        }
      ],
      "source": [
        "# description of the feature\n",
        "var_desc"
      ]
    },
    {
      "cell_type": "code",
      "execution_count": null,
      "metadata": {
        "colab": {
          "base_uri": "https://localhost:8080/",
          "height": 206
        },
        "id": "AtvZLSrT4Wzj",
        "outputId": "c1ac386c-0fb0-4efd-ddf3-09ec316f0b92"
      },
      "outputs": [
        {
          "data": {
            "text/html": [
              "\n",
              "  <div id=\"df-dafcbd77-2460-4b9d-83ea-fa9eb9f30613\">\n",
              "    <div class=\"colab-df-container\">\n",
              "      <div>\n",
              "<style scoped>\n",
              "    .dataframe tbody tr th:only-of-type {\n",
              "        vertical-align: middle;\n",
              "    }\n",
              "\n",
              "    .dataframe tbody tr th {\n",
              "        vertical-align: top;\n",
              "    }\n",
              "\n",
              "    .dataframe thead th {\n",
              "        text-align: right;\n",
              "    }\n",
              "</style>\n",
              "<table border=\"1\" class=\"dataframe\">\n",
              "  <thead>\n",
              "    <tr style=\"text-align: right;\">\n",
              "      <th></th>\n",
              "      <th>Customer Id</th>\n",
              "      <th>Claim</th>\n",
              "    </tr>\n",
              "  </thead>\n",
              "  <tbody>\n",
              "    <tr>\n",
              "      <th>0</th>\n",
              "      <td>H0</td>\n",
              "      <td>1</td>\n",
              "    </tr>\n",
              "    <tr>\n",
              "      <th>1</th>\n",
              "      <td>H10000</td>\n",
              "      <td>1</td>\n",
              "    </tr>\n",
              "    <tr>\n",
              "      <th>2</th>\n",
              "      <td>H10001</td>\n",
              "      <td>1</td>\n",
              "    </tr>\n",
              "    <tr>\n",
              "      <th>3</th>\n",
              "      <td>H10002</td>\n",
              "      <td>1</td>\n",
              "    </tr>\n",
              "    <tr>\n",
              "      <th>4</th>\n",
              "      <td>H10003</td>\n",
              "      <td>1</td>\n",
              "    </tr>\n",
              "  </tbody>\n",
              "</table>\n",
              "</div>\n",
              "      <button class=\"colab-df-convert\" onclick=\"convertToInteractive('df-dafcbd77-2460-4b9d-83ea-fa9eb9f30613')\"\n",
              "              title=\"Convert this dataframe to an interactive table.\"\n",
              "              style=\"display:none;\">\n",
              "        \n",
              "  <svg xmlns=\"http://www.w3.org/2000/svg\" height=\"24px\"viewBox=\"0 0 24 24\"\n",
              "       width=\"24px\">\n",
              "    <path d=\"M0 0h24v24H0V0z\" fill=\"none\"/>\n",
              "    <path d=\"M18.56 5.44l.94 2.06.94-2.06 2.06-.94-2.06-.94-.94-2.06-.94 2.06-2.06.94zm-11 1L8.5 8.5l.94-2.06 2.06-.94-2.06-.94L8.5 2.5l-.94 2.06-2.06.94zm10 10l.94 2.06.94-2.06 2.06-.94-2.06-.94-.94-2.06-.94 2.06-2.06.94z\"/><path d=\"M17.41 7.96l-1.37-1.37c-.4-.4-.92-.59-1.43-.59-.52 0-1.04.2-1.43.59L10.3 9.45l-7.72 7.72c-.78.78-.78 2.05 0 2.83L4 21.41c.39.39.9.59 1.41.59.51 0 1.02-.2 1.41-.59l7.78-7.78 2.81-2.81c.8-.78.8-2.07 0-2.86zM5.41 20L4 18.59l7.72-7.72 1.47 1.35L5.41 20z\"/>\n",
              "  </svg>\n",
              "      </button>\n",
              "      \n",
              "  <style>\n",
              "    .colab-df-container {\n",
              "      display:flex;\n",
              "      flex-wrap:wrap;\n",
              "      gap: 12px;\n",
              "    }\n",
              "\n",
              "    .colab-df-convert {\n",
              "      background-color: #E8F0FE;\n",
              "      border: none;\n",
              "      border-radius: 50%;\n",
              "      cursor: pointer;\n",
              "      display: none;\n",
              "      fill: #1967D2;\n",
              "      height: 32px;\n",
              "      padding: 0 0 0 0;\n",
              "      width: 32px;\n",
              "    }\n",
              "\n",
              "    .colab-df-convert:hover {\n",
              "      background-color: #E2EBFA;\n",
              "      box-shadow: 0px 1px 2px rgba(60, 64, 67, 0.3), 0px 1px 3px 1px rgba(60, 64, 67, 0.15);\n",
              "      fill: #174EA6;\n",
              "    }\n",
              "\n",
              "    [theme=dark] .colab-df-convert {\n",
              "      background-color: #3B4455;\n",
              "      fill: #D2E3FC;\n",
              "    }\n",
              "\n",
              "    [theme=dark] .colab-df-convert:hover {\n",
              "      background-color: #434B5C;\n",
              "      box-shadow: 0px 1px 3px 1px rgba(0, 0, 0, 0.15);\n",
              "      filter: drop-shadow(0px 1px 2px rgba(0, 0, 0, 0.3));\n",
              "      fill: #FFFFFF;\n",
              "    }\n",
              "  </style>\n",
              "\n",
              "      <script>\n",
              "        const buttonEl =\n",
              "          document.querySelector('#df-dafcbd77-2460-4b9d-83ea-fa9eb9f30613 button.colab-df-convert');\n",
              "        buttonEl.style.display =\n",
              "          google.colab.kernel.accessAllowed ? 'block' : 'none';\n",
              "\n",
              "        async function convertToInteractive(key) {\n",
              "          const element = document.querySelector('#df-dafcbd77-2460-4b9d-83ea-fa9eb9f30613');\n",
              "          const dataTable =\n",
              "            await google.colab.kernel.invokeFunction('convertToInteractive',\n",
              "                                                     [key], {});\n",
              "          if (!dataTable) return;\n",
              "\n",
              "          const docLinkHtml = 'Like what you see? Visit the ' +\n",
              "            '<a target=\"_blank\" href=https://colab.research.google.com/notebooks/data_table.ipynb>data table notebook</a>'\n",
              "            + ' to learn more about interactive tables.';\n",
              "          element.innerHTML = '';\n",
              "          dataTable['output_type'] = 'display_data';\n",
              "          await google.colab.output.renderOutput(dataTable, element);\n",
              "          const docLink = document.createElement('div');\n",
              "          docLink.innerHTML = docLinkHtml;\n",
              "          element.appendChild(docLink);\n",
              "        }\n",
              "      </script>\n",
              "    </div>\n",
              "  </div>\n",
              "  "
            ],
            "text/plain": [
              "  Customer Id  Claim\n",
              "0          H0      1\n",
              "1      H10000      1\n",
              "2      H10001      1\n",
              "3      H10002      1\n",
              "4      H10003      1"
            ]
          },
          "execution_count": 9,
          "metadata": {},
          "output_type": "execute_result"
        }
      ],
      "source": [
        "# the sample submission file\n",
        "samsub.head()"
      ]
    },
    {
      "cell_type": "code",
      "execution_count": null,
      "metadata": {
        "colab": {
          "base_uri": "https://localhost:8080/"
        },
        "id": "ynK4hdDFDRNs",
        "outputId": "e5659b6f-d4cc-4297-b672-66d7a364649c"
      },
      "outputs": [
        {
          "name": "stdout",
          "output_type": "stream",
          "text": [
            "<class 'pandas.core.frame.DataFrame'>\n",
            "RangeIndex: 7160 entries, 0 to 7159\n",
            "Data columns (total 14 columns):\n",
            " #   Column              Non-Null Count  Dtype  \n",
            "---  ------              --------------  -----  \n",
            " 0   Customer Id         7160 non-null   object \n",
            " 1   YearOfObservation   7160 non-null   int64  \n",
            " 2   Insured_Period      7160 non-null   float64\n",
            " 3   Residential         7160 non-null   int64  \n",
            " 4   Building_Painted    7160 non-null   object \n",
            " 5   Building_Fenced     7160 non-null   object \n",
            " 6   Garden              7153 non-null   object \n",
            " 7   Settlement          7160 non-null   object \n",
            " 8   Building Dimension  7054 non-null   float64\n",
            " 9   Building_Type       7160 non-null   int64  \n",
            " 10  Date_of_Occupancy   6652 non-null   float64\n",
            " 11  NumberOfWindows     7160 non-null   object \n",
            " 12  Geo_Code            7058 non-null   object \n",
            " 13  Claim               7160 non-null   int64  \n",
            "dtypes: float64(3), int64(4), object(7)\n",
            "memory usage: 783.2+ KB\n"
          ]
        }
      ],
      "source": [
        "train.info()"
      ]
    },
    {
      "cell_type": "code",
      "execution_count": null,
      "metadata": {
        "colab": {
          "base_uri": "https://localhost:8080/"
        },
        "id": "jZU7e6QOLB4-",
        "outputId": "cb6ac848-df88-4749-b5c9-4d31bdf8e5e2"
      },
      "outputs": [
        {
          "data": {
            "text/plain": [
              "(7160, 14)"
            ]
          },
          "execution_count": 27,
          "metadata": {},
          "output_type": "execute_result"
        }
      ],
      "source": [
        "train.shape"
      ]
    },
    {
      "cell_type": "markdown",
      "metadata": {
        "id": "0x_KQWfjLQBB"
      },
      "source": [
        "## Exploratory Data Analysis"
      ]
    },
    {
      "cell_type": "code",
      "execution_count": null,
      "metadata": {
        "colab": {
          "base_uri": "https://localhost:8080/",
          "height": 288
        },
        "id": "rUJ5nCAGLkuC",
        "outputId": "212f408f-e1bb-45e7-b600-659ba06294f4"
      },
      "outputs": [
        {
          "data": {
            "text/html": [
              "\n",
              "  <div id=\"df-9c490c7c-f711-4cad-80f5-eedeeba27fdd\">\n",
              "    <div class=\"colab-df-container\">\n",
              "      <div>\n",
              "<style scoped>\n",
              "    .dataframe tbody tr th:only-of-type {\n",
              "        vertical-align: middle;\n",
              "    }\n",
              "\n",
              "    .dataframe tbody tr th {\n",
              "        vertical-align: top;\n",
              "    }\n",
              "\n",
              "    .dataframe thead th {\n",
              "        text-align: right;\n",
              "    }\n",
              "</style>\n",
              "<table border=\"1\" class=\"dataframe\">\n",
              "  <thead>\n",
              "    <tr style=\"text-align: right;\">\n",
              "      <th></th>\n",
              "      <th>Customer Id</th>\n",
              "      <th>YearOfObservation</th>\n",
              "      <th>Insured_Period</th>\n",
              "      <th>Residential</th>\n",
              "      <th>Building_Painted</th>\n",
              "      <th>Building_Fenced</th>\n",
              "      <th>Garden</th>\n",
              "      <th>Settlement</th>\n",
              "      <th>Building Dimension</th>\n",
              "      <th>Building_Type</th>\n",
              "      <th>Date_of_Occupancy</th>\n",
              "      <th>NumberOfWindows</th>\n",
              "      <th>Geo_Code</th>\n",
              "    </tr>\n",
              "  </thead>\n",
              "  <tbody>\n",
              "    <tr>\n",
              "      <th>0</th>\n",
              "      <td>H11920</td>\n",
              "      <td>2013</td>\n",
              "      <td>1.000000</td>\n",
              "      <td>0</td>\n",
              "      <td>V</td>\n",
              "      <td>N</td>\n",
              "      <td>O</td>\n",
              "      <td>R</td>\n",
              "      <td>300.0</td>\n",
              "      <td>1</td>\n",
              "      <td>1960.0</td>\n",
              "      <td>3</td>\n",
              "      <td>3310</td>\n",
              "    </tr>\n",
              "    <tr>\n",
              "      <th>1</th>\n",
              "      <td>H11921</td>\n",
              "      <td>2016</td>\n",
              "      <td>0.997268</td>\n",
              "      <td>0</td>\n",
              "      <td>V</td>\n",
              "      <td>N</td>\n",
              "      <td>O</td>\n",
              "      <td>R</td>\n",
              "      <td>300.0</td>\n",
              "      <td>1</td>\n",
              "      <td>1960.0</td>\n",
              "      <td>3</td>\n",
              "      <td>3310</td>\n",
              "    </tr>\n",
              "    <tr>\n",
              "      <th>2</th>\n",
              "      <td>H9805</td>\n",
              "      <td>2013</td>\n",
              "      <td>0.369863</td>\n",
              "      <td>0</td>\n",
              "      <td>V</td>\n",
              "      <td>V</td>\n",
              "      <td>V</td>\n",
              "      <td>U</td>\n",
              "      <td>790.0</td>\n",
              "      <td>1</td>\n",
              "      <td>1960.0</td>\n",
              "      <td>.</td>\n",
              "      <td>3310</td>\n",
              "    </tr>\n",
              "    <tr>\n",
              "      <th>3</th>\n",
              "      <td>H7493</td>\n",
              "      <td>2014</td>\n",
              "      <td>1.000000</td>\n",
              "      <td>0</td>\n",
              "      <td>V</td>\n",
              "      <td>N</td>\n",
              "      <td>O</td>\n",
              "      <td>R</td>\n",
              "      <td>1405.0</td>\n",
              "      <td>1</td>\n",
              "      <td>2004.0</td>\n",
              "      <td>3</td>\n",
              "      <td>3321</td>\n",
              "    </tr>\n",
              "    <tr>\n",
              "      <th>4</th>\n",
              "      <td>H7494</td>\n",
              "      <td>2016</td>\n",
              "      <td>1.000000</td>\n",
              "      <td>0</td>\n",
              "      <td>V</td>\n",
              "      <td>N</td>\n",
              "      <td>O</td>\n",
              "      <td>R</td>\n",
              "      <td>1405.0</td>\n",
              "      <td>1</td>\n",
              "      <td>2004.0</td>\n",
              "      <td>3</td>\n",
              "      <td>3321</td>\n",
              "    </tr>\n",
              "  </tbody>\n",
              "</table>\n",
              "</div>\n",
              "      <button class=\"colab-df-convert\" onclick=\"convertToInteractive('df-9c490c7c-f711-4cad-80f5-eedeeba27fdd')\"\n",
              "              title=\"Convert this dataframe to an interactive table.\"\n",
              "              style=\"display:none;\">\n",
              "        \n",
              "  <svg xmlns=\"http://www.w3.org/2000/svg\" height=\"24px\"viewBox=\"0 0 24 24\"\n",
              "       width=\"24px\">\n",
              "    <path d=\"M0 0h24v24H0V0z\" fill=\"none\"/>\n",
              "    <path d=\"M18.56 5.44l.94 2.06.94-2.06 2.06-.94-2.06-.94-.94-2.06-.94 2.06-2.06.94zm-11 1L8.5 8.5l.94-2.06 2.06-.94-2.06-.94L8.5 2.5l-.94 2.06-2.06.94zm10 10l.94 2.06.94-2.06 2.06-.94-2.06-.94-.94-2.06-.94 2.06-2.06.94z\"/><path d=\"M17.41 7.96l-1.37-1.37c-.4-.4-.92-.59-1.43-.59-.52 0-1.04.2-1.43.59L10.3 9.45l-7.72 7.72c-.78.78-.78 2.05 0 2.83L4 21.41c.39.39.9.59 1.41.59.51 0 1.02-.2 1.41-.59l7.78-7.78 2.81-2.81c.8-.78.8-2.07 0-2.86zM5.41 20L4 18.59l7.72-7.72 1.47 1.35L5.41 20z\"/>\n",
              "  </svg>\n",
              "      </button>\n",
              "      \n",
              "  <style>\n",
              "    .colab-df-container {\n",
              "      display:flex;\n",
              "      flex-wrap:wrap;\n",
              "      gap: 12px;\n",
              "    }\n",
              "\n",
              "    .colab-df-convert {\n",
              "      background-color: #E8F0FE;\n",
              "      border: none;\n",
              "      border-radius: 50%;\n",
              "      cursor: pointer;\n",
              "      display: none;\n",
              "      fill: #1967D2;\n",
              "      height: 32px;\n",
              "      padding: 0 0 0 0;\n",
              "      width: 32px;\n",
              "    }\n",
              "\n",
              "    .colab-df-convert:hover {\n",
              "      background-color: #E2EBFA;\n",
              "      box-shadow: 0px 1px 2px rgba(60, 64, 67, 0.3), 0px 1px 3px 1px rgba(60, 64, 67, 0.15);\n",
              "      fill: #174EA6;\n",
              "    }\n",
              "\n",
              "    [theme=dark] .colab-df-convert {\n",
              "      background-color: #3B4455;\n",
              "      fill: #D2E3FC;\n",
              "    }\n",
              "\n",
              "    [theme=dark] .colab-df-convert:hover {\n",
              "      background-color: #434B5C;\n",
              "      box-shadow: 0px 1px 3px 1px rgba(0, 0, 0, 0.15);\n",
              "      filter: drop-shadow(0px 1px 2px rgba(0, 0, 0, 0.3));\n",
              "      fill: #FFFFFF;\n",
              "    }\n",
              "  </style>\n",
              "\n",
              "      <script>\n",
              "        const buttonEl =\n",
              "          document.querySelector('#df-9c490c7c-f711-4cad-80f5-eedeeba27fdd button.colab-df-convert');\n",
              "        buttonEl.style.display =\n",
              "          google.colab.kernel.accessAllowed ? 'block' : 'none';\n",
              "\n",
              "        async function convertToInteractive(key) {\n",
              "          const element = document.querySelector('#df-9c490c7c-f711-4cad-80f5-eedeeba27fdd');\n",
              "          const dataTable =\n",
              "            await google.colab.kernel.invokeFunction('convertToInteractive',\n",
              "                                                     [key], {});\n",
              "          if (!dataTable) return;\n",
              "\n",
              "          const docLinkHtml = 'Like what you see? Visit the ' +\n",
              "            '<a target=\"_blank\" href=https://colab.research.google.com/notebooks/data_table.ipynb>data table notebook</a>'\n",
              "            + ' to learn more about interactive tables.';\n",
              "          element.innerHTML = '';\n",
              "          dataTable['output_type'] = 'display_data';\n",
              "          await google.colab.output.renderOutput(dataTable, element);\n",
              "          const docLink = document.createElement('div');\n",
              "          docLink.innerHTML = docLinkHtml;\n",
              "          element.appendChild(docLink);\n",
              "        }\n",
              "      </script>\n",
              "    </div>\n",
              "  </div>\n",
              "  "
            ],
            "text/plain": [
              "  Customer Id  YearOfObservation  Insured_Period  Residential  \\\n",
              "0      H11920               2013        1.000000            0   \n",
              "1      H11921               2016        0.997268            0   \n",
              "2       H9805               2013        0.369863            0   \n",
              "3       H7493               2014        1.000000            0   \n",
              "4       H7494               2016        1.000000            0   \n",
              "\n",
              "  Building_Painted Building_Fenced Garden Settlement  Building Dimension  \\\n",
              "0                V               N      O          R               300.0   \n",
              "1                V               N      O          R               300.0   \n",
              "2                V               V      V          U               790.0   \n",
              "3                V               N      O          R              1405.0   \n",
              "4                V               N      O          R              1405.0   \n",
              "\n",
              "   Building_Type  Date_of_Occupancy NumberOfWindows Geo_Code  \n",
              "0              1             1960.0               3     3310  \n",
              "1              1             1960.0               3     3310  \n",
              "2              1             1960.0               .     3310  \n",
              "3              1             2004.0               3     3321  \n",
              "4              1             2004.0               3     3321  "
            ]
          },
          "execution_count": 5,
          "metadata": {},
          "output_type": "execute_result"
        }
      ],
      "source": [
        "#display the first five rows of the test data\n",
        "test.head()"
      ]
    },
    {
      "cell_type": "code",
      "execution_count": null,
      "metadata": {
        "colab": {
          "base_uri": "https://localhost:8080/",
          "height": 288
        },
        "id": "Na8ODh5HLKms",
        "outputId": "4ae160e5-5675-480a-93ef-da3db5f4043f"
      },
      "outputs": [
        {
          "data": {
            "text/html": [
              "\n",
              "  <div id=\"df-50640f34-4b17-4a21-9923-892c0d7ef8b4\">\n",
              "    <div class=\"colab-df-container\">\n",
              "      <div>\n",
              "<style scoped>\n",
              "    .dataframe tbody tr th:only-of-type {\n",
              "        vertical-align: middle;\n",
              "    }\n",
              "\n",
              "    .dataframe tbody tr th {\n",
              "        vertical-align: top;\n",
              "    }\n",
              "\n",
              "    .dataframe thead th {\n",
              "        text-align: right;\n",
              "    }\n",
              "</style>\n",
              "<table border=\"1\" class=\"dataframe\">\n",
              "  <thead>\n",
              "    <tr style=\"text-align: right;\">\n",
              "      <th></th>\n",
              "      <th>Customer Id</th>\n",
              "      <th>YearOfObservation</th>\n",
              "      <th>Insured_Period</th>\n",
              "      <th>Residential</th>\n",
              "      <th>Building_Painted</th>\n",
              "      <th>Building_Fenced</th>\n",
              "      <th>Garden</th>\n",
              "      <th>Settlement</th>\n",
              "      <th>Building Dimension</th>\n",
              "      <th>Building_Type</th>\n",
              "      <th>Date_of_Occupancy</th>\n",
              "      <th>NumberOfWindows</th>\n",
              "      <th>Geo_Code</th>\n",
              "      <th>Claim</th>\n",
              "    </tr>\n",
              "  </thead>\n",
              "  <tbody>\n",
              "    <tr>\n",
              "      <th>0</th>\n",
              "      <td>H14663</td>\n",
              "      <td>2013</td>\n",
              "      <td>1.0</td>\n",
              "      <td>0</td>\n",
              "      <td>N</td>\n",
              "      <td>V</td>\n",
              "      <td>V</td>\n",
              "      <td>U</td>\n",
              "      <td>290.0</td>\n",
              "      <td>1</td>\n",
              "      <td>1960.0</td>\n",
              "      <td>.</td>\n",
              "      <td>1053</td>\n",
              "      <td>0</td>\n",
              "    </tr>\n",
              "    <tr>\n",
              "      <th>1</th>\n",
              "      <td>H2037</td>\n",
              "      <td>2015</td>\n",
              "      <td>1.0</td>\n",
              "      <td>0</td>\n",
              "      <td>V</td>\n",
              "      <td>N</td>\n",
              "      <td>O</td>\n",
              "      <td>R</td>\n",
              "      <td>490.0</td>\n",
              "      <td>1</td>\n",
              "      <td>1850.0</td>\n",
              "      <td>4</td>\n",
              "      <td>1053</td>\n",
              "      <td>0</td>\n",
              "    </tr>\n",
              "    <tr>\n",
              "      <th>2</th>\n",
              "      <td>H3802</td>\n",
              "      <td>2014</td>\n",
              "      <td>1.0</td>\n",
              "      <td>0</td>\n",
              "      <td>N</td>\n",
              "      <td>V</td>\n",
              "      <td>V</td>\n",
              "      <td>U</td>\n",
              "      <td>595.0</td>\n",
              "      <td>1</td>\n",
              "      <td>1960.0</td>\n",
              "      <td>.</td>\n",
              "      <td>1053</td>\n",
              "      <td>0</td>\n",
              "    </tr>\n",
              "    <tr>\n",
              "      <th>3</th>\n",
              "      <td>H3834</td>\n",
              "      <td>2013</td>\n",
              "      <td>1.0</td>\n",
              "      <td>0</td>\n",
              "      <td>V</td>\n",
              "      <td>V</td>\n",
              "      <td>V</td>\n",
              "      <td>U</td>\n",
              "      <td>2840.0</td>\n",
              "      <td>1</td>\n",
              "      <td>1960.0</td>\n",
              "      <td>.</td>\n",
              "      <td>1053</td>\n",
              "      <td>0</td>\n",
              "    </tr>\n",
              "    <tr>\n",
              "      <th>4</th>\n",
              "      <td>H5053</td>\n",
              "      <td>2014</td>\n",
              "      <td>1.0</td>\n",
              "      <td>0</td>\n",
              "      <td>V</td>\n",
              "      <td>N</td>\n",
              "      <td>O</td>\n",
              "      <td>R</td>\n",
              "      <td>680.0</td>\n",
              "      <td>1</td>\n",
              "      <td>1800.0</td>\n",
              "      <td>3</td>\n",
              "      <td>1053</td>\n",
              "      <td>0</td>\n",
              "    </tr>\n",
              "  </tbody>\n",
              "</table>\n",
              "</div>\n",
              "      <button class=\"colab-df-convert\" onclick=\"convertToInteractive('df-50640f34-4b17-4a21-9923-892c0d7ef8b4')\"\n",
              "              title=\"Convert this dataframe to an interactive table.\"\n",
              "              style=\"display:none;\">\n",
              "        \n",
              "  <svg xmlns=\"http://www.w3.org/2000/svg\" height=\"24px\"viewBox=\"0 0 24 24\"\n",
              "       width=\"24px\">\n",
              "    <path d=\"M0 0h24v24H0V0z\" fill=\"none\"/>\n",
              "    <path d=\"M18.56 5.44l.94 2.06.94-2.06 2.06-.94-2.06-.94-.94-2.06-.94 2.06-2.06.94zm-11 1L8.5 8.5l.94-2.06 2.06-.94-2.06-.94L8.5 2.5l-.94 2.06-2.06.94zm10 10l.94 2.06.94-2.06 2.06-.94-2.06-.94-.94-2.06-.94 2.06-2.06.94z\"/><path d=\"M17.41 7.96l-1.37-1.37c-.4-.4-.92-.59-1.43-.59-.52 0-1.04.2-1.43.59L10.3 9.45l-7.72 7.72c-.78.78-.78 2.05 0 2.83L4 21.41c.39.39.9.59 1.41.59.51 0 1.02-.2 1.41-.59l7.78-7.78 2.81-2.81c.8-.78.8-2.07 0-2.86zM5.41 20L4 18.59l7.72-7.72 1.47 1.35L5.41 20z\"/>\n",
              "  </svg>\n",
              "      </button>\n",
              "      \n",
              "  <style>\n",
              "    .colab-df-container {\n",
              "      display:flex;\n",
              "      flex-wrap:wrap;\n",
              "      gap: 12px;\n",
              "    }\n",
              "\n",
              "    .colab-df-convert {\n",
              "      background-color: #E8F0FE;\n",
              "      border: none;\n",
              "      border-radius: 50%;\n",
              "      cursor: pointer;\n",
              "      display: none;\n",
              "      fill: #1967D2;\n",
              "      height: 32px;\n",
              "      padding: 0 0 0 0;\n",
              "      width: 32px;\n",
              "    }\n",
              "\n",
              "    .colab-df-convert:hover {\n",
              "      background-color: #E2EBFA;\n",
              "      box-shadow: 0px 1px 2px rgba(60, 64, 67, 0.3), 0px 1px 3px 1px rgba(60, 64, 67, 0.15);\n",
              "      fill: #174EA6;\n",
              "    }\n",
              "\n",
              "    [theme=dark] .colab-df-convert {\n",
              "      background-color: #3B4455;\n",
              "      fill: #D2E3FC;\n",
              "    }\n",
              "\n",
              "    [theme=dark] .colab-df-convert:hover {\n",
              "      background-color: #434B5C;\n",
              "      box-shadow: 0px 1px 3px 1px rgba(0, 0, 0, 0.15);\n",
              "      filter: drop-shadow(0px 1px 2px rgba(0, 0, 0, 0.3));\n",
              "      fill: #FFFFFF;\n",
              "    }\n",
              "  </style>\n",
              "\n",
              "      <script>\n",
              "        const buttonEl =\n",
              "          document.querySelector('#df-50640f34-4b17-4a21-9923-892c0d7ef8b4 button.colab-df-convert');\n",
              "        buttonEl.style.display =\n",
              "          google.colab.kernel.accessAllowed ? 'block' : 'none';\n",
              "\n",
              "        async function convertToInteractive(key) {\n",
              "          const element = document.querySelector('#df-50640f34-4b17-4a21-9923-892c0d7ef8b4');\n",
              "          const dataTable =\n",
              "            await google.colab.kernel.invokeFunction('convertToInteractive',\n",
              "                                                     [key], {});\n",
              "          if (!dataTable) return;\n",
              "\n",
              "          const docLinkHtml = 'Like what you see? Visit the ' +\n",
              "            '<a target=\"_blank\" href=https://colab.research.google.com/notebooks/data_table.ipynb>data table notebook</a>'\n",
              "            + ' to learn more about interactive tables.';\n",
              "          element.innerHTML = '';\n",
              "          dataTable['output_type'] = 'display_data';\n",
              "          await google.colab.output.renderOutput(dataTable, element);\n",
              "          const docLink = document.createElement('div');\n",
              "          docLink.innerHTML = docLinkHtml;\n",
              "          element.appendChild(docLink);\n",
              "        }\n",
              "      </script>\n",
              "    </div>\n",
              "  </div>\n",
              "  "
            ],
            "text/plain": [
              "  Customer Id  YearOfObservation  Insured_Period  Residential  \\\n",
              "0      H14663               2013             1.0            0   \n",
              "1       H2037               2015             1.0            0   \n",
              "2       H3802               2014             1.0            0   \n",
              "3       H3834               2013             1.0            0   \n",
              "4       H5053               2014             1.0            0   \n",
              "\n",
              "  Building_Painted Building_Fenced Garden Settlement  Building Dimension  \\\n",
              "0                N               V      V          U               290.0   \n",
              "1                V               N      O          R               490.0   \n",
              "2                N               V      V          U               595.0   \n",
              "3                V               V      V          U              2840.0   \n",
              "4                V               N      O          R               680.0   \n",
              "\n",
              "   Building_Type  Date_of_Occupancy NumberOfWindows Geo_Code  Claim  \n",
              "0              1             1960.0               .     1053      0  \n",
              "1              1             1850.0               4     1053      0  \n",
              "2              1             1960.0               .     1053      0  \n",
              "3              1             1960.0               .     1053      0  \n",
              "4              1             1800.0               3     1053      0  "
            ]
          },
          "execution_count": 6,
          "metadata": {},
          "output_type": "execute_result"
        }
      ],
      "source": [
        "#display the first five rows of the train data\n",
        "train.head()"
      ]
    },
    {
      "cell_type": "code",
      "execution_count": 6,
      "metadata": {
        "id": "1uE4GQxkLuf4",
        "colab": {
          "base_uri": "https://localhost:8080/"
        },
        "outputId": "05bd0254-08a5-4275-93e9-fa1df17fe890"
      },
      "outputs": [
        {
          "output_type": "execute_result",
          "data": {
            "text/plain": [
              "Index(['customer_id', 'year_obs', 'insured_period', 'residential',\n",
              "       'building_painted', 'building_fenced', 'garden', 'settlement',\n",
              "       'building_dimension', 'building_type', 'date_of_occupancy', 'win_num',\n",
              "       'geo_code', 'claim'],\n",
              "      dtype='object')"
            ]
          },
          "metadata": {},
          "execution_count": 6
        }
      ],
      "source": [
        "#Renaming the columns\n",
        "train.columns = ['customer_id', 'year_obs', 'insured_period', 'residential',\n",
        "       'building_painted', 'building_fenced', 'garden', 'settlement',\n",
        "       'building_dimension', 'building_type', 'date_of_occupancy',\n",
        "       'win_num', 'geo_code', 'claim']\n",
        "\n",
        "train.columns"
      ]
    },
    {
      "cell_type": "code",
      "execution_count": 7,
      "metadata": {
        "colab": {
          "base_uri": "https://localhost:8080/"
        },
        "id": "0WDCq2atLX5a",
        "outputId": "ca40ee75-c976-4387-894f-abb0f433c945"
      },
      "outputs": [
        {
          "output_type": "execute_result",
          "data": {
            "text/plain": [
              "Index(['customer_id', 'year_obs', 'insured_period', 'residential',\n",
              "       'building_painted', 'building_fenced', 'garden', 'settlement',\n",
              "       'building_dimension', 'building_type', 'date_of_occupancy', 'win_num',\n",
              "       'geo_code'],\n",
              "      dtype='object')"
            ]
          },
          "metadata": {},
          "execution_count": 7
        }
      ],
      "source": [
        "#Renaming the columns\n",
        "test.columns = ['customer_id', 'year_obs', 'insured_period', 'residential',\n",
        "       'building_painted', 'building_fenced', 'garden', 'settlement',\n",
        "       'building_dimension', 'building_type', 'date_of_occupancy',\n",
        "       'win_num', 'geo_code']\n",
        "\n",
        "test.columns"
      ]
    },
    {
      "cell_type": "code",
      "execution_count": 8,
      "metadata": {
        "id": "BajX4S96NaVO"
      },
      "outputs": [],
      "source": [
        "#writing a function to plot two countplots\n",
        "def countplot(first, second):\n",
        "  fig, ax = plt.subplots(1, 2, figsize = [15,5])\n",
        "  \n",
        "  sns.countplot(x = train[first], ax = ax[0]).set_title(f\"{first} distribution\")\n",
        "  sns.countplot(x = train[second], ax = ax[1]).set_title(f\"{second} distribution\")\n",
        "\n",
        "  fig.show()"
      ]
    },
    {
      "cell_type": "code",
      "execution_count": null,
      "metadata": {
        "colab": {
          "base_uri": "https://localhost:8080/",
          "height": 349
        },
        "id": "Kiwj6t2fUZHt",
        "outputId": "211ec9b0-aaf3-4958-d8ce-34d17fc1a40b"
      },
      "outputs": [
        {
          "data": {
            "image/png": "[encoded data removed]",
            "text/plain": [
              "<Figure size 1080x360 with 2 Axes>"
            ]
          },
          "metadata": {},
          "output_type": "display_data"
        }
      ],
      "source": [
        "countplot('building_painted', 'building_fenced')"
      ]
    },
    {
      "cell_type": "markdown",
      "metadata": {
        "id": "Ax_JUpMeVXD9"
      },
      "source": [
        "In **building_painted** column, N-Painted, V-Not Painted\n",
        "\n",
        "In **building_fenced** column, N-Fenced, V-Not Fenced\n",
        "\n",
        "- Most of the builings were not painted\n",
        "- There is only a slight different between the number of buildngs that were not fenced and those that were fenced with the highest being those that are fenced"
      ]
    },
    {
      "cell_type": "code",
      "execution_count": null,
      "metadata": {
        "colab": {
          "base_uri": "https://localhost:8080/",
          "height": 349
        },
        "id": "Vj_k7i2OVAEA",
        "outputId": "01adf8f7-3422-49bb-831c-c52ccf810e6a"
      },
      "outputs": [
        {
          "data": {
            "image/png": "[encoded data removed]",
            "text/plain": [
              "<Figure size 1080x360 with 2 Axes>"
            ]
          },
          "metadata": {},
          "output_type": "display_data"
        }
      ],
      "source": [
        "countplot('garden', 'settlement')"
      ]
    },
    {
      "cell_type": "markdown",
      "metadata": {
        "id": "4Ez63M0AX6oa"
      },
      "source": [
        "In **garden** column, V-has garden, O-no garden\n",
        "\n",
        "In **settlement** column, R-rural area, U- urban area\n",
        "\n",
        "- There is only a slight different between the number of buildngs with garden and those without garden. Buildings with no garden is slightly higher than those with garden.\n",
        "\n",
        "- There is only a slight different between the number of buildngs located in urban area and those in rural area. Number of buildings located in rural area is slightly higher than those in urban areas.\n",
        " \n",
        "   *There is an observable correlation betwen these two columns*"
      ]
    },
    {
      "cell_type": "code",
      "execution_count": null,
      "metadata": {
        "colab": {
          "base_uri": "https://localhost:8080/",
          "height": 349
        },
        "id": "Xoz5DhaMYj5a",
        "outputId": "94455773-0d9a-491a-e8f2-ab3574064d37"
      },
      "outputs": [
        {
          "data": {
            "image/png": "[encoded data removed]",
            "text/plain": [
              "<Figure size 1080x360 with 2 Axes>"
            ]
          },
          "metadata": {},
          "output_type": "display_data"
        }
      ],
      "source": [
        "countplot('building_type', 'claim')  "
      ]
    },
    {
      "cell_type": "markdown",
      "metadata": {
        "id": "sN6EfKHxmf6S"
      },
      "source": [
        "- Building type **2** has the highest frequency\n",
        "- Most of the Buldings has no insurance claim"
      ]
    },
    {
      "cell_type": "code",
      "execution_count": null,
      "metadata": {
        "colab": {
          "background_save": true,
          "base_uri": "https://localhost:8080/",
          "height": 349
        },
        "id": "y-mi4WVhScg0",
        "outputId": "ccfb7fa3-2a16-45f5-8bd2-3b67de084f18"
      },
      "outputs": [
        {
          "data": {
            "image/png": "[encoded data removed]",
            "text/plain": [
              "<Figure size 1080x360 with 2 Axes>"
            ]
          },
          "metadata": {},
          "output_type": "display_data"
        }
      ],
      "source": [
        "fig, ax = plt.subplots(1, 2, figsize = [15, 5])\n",
        "sns.countplot(x = train.residential, ax = ax[0]).set_title('Residential distribution')\n",
        "sns.countplot(x = train.residential, hue = train.settlement, ax = ax[1]).set_title('Residential relative to settlement')\n",
        "plt.show()"
      ]
    },
    {
      "cell_type": "markdown",
      "metadata": {
        "id": "InvyXYspS42Y"
      },
      "source": [
        "- Most of the buildings are not residential\n",
        "- Most of the buildings in urban areas are not residential while most of the building in rural area are residential. This could be due to the fact that no industry(or few) is located in rural areas. hence all buildings are residential unlike urban areas"
      ]
    },
    {
      "cell_type": "code",
      "execution_count": 9,
      "metadata": {
        "id": "1sMwyxZ_bzSk"
      },
      "outputs": [],
      "source": [
        "def countplott(first, second, third):\n",
        "  fig, ax = plt.subplots(1, 2, figsize = [15,5])\n",
        "  \n",
        "  sns.countplot(x = train[first], hue = train[second], ax = ax[0]).set_title(f\"claim hued by {second}\")\n",
        "  sns.countplot(x = train[first], hue = train[third], ax = ax[1]).set_title(f\"claim hued by {third}\")\n",
        "\n",
        "  fig.show()"
      ]
    },
    {
      "cell_type": "code",
      "execution_count": null,
      "metadata": {
        "colab": {
          "base_uri": "https://localhost:8080/",
          "height": 349
        },
        "id": "dZ7XvLbbiZTS",
        "outputId": "cc2a4239-39da-47d0-d8a6-d30b51f46d40"
      },
      "outputs": [
        {
          "data": {
            "image/png": "[encoded data removed]",
            "text/plain": [
              "<Figure size 1080x360 with 2 Axes>"
            ]
          },
          "metadata": {},
          "output_type": "display_data"
        }
      ],
      "source": [
        "countplott('claim', 'garden', 'settlement')"
      ]
    },
    {
      "cell_type": "markdown",
      "metadata": {
        "id": "hLll6y79qB7f"
      },
      "source": [
        "- Most of the houses with garden has no insurance claim while most of the garden without garden has insurance claim\n",
        "\n",
        "- Most of the houses in Urban areas has no insurance claim while most of the houses in rural areas has insurance claim\n",
        "\n",
        "   *The two two columns appear to display the same or similar information, one of them will be dropped in the modelling phase.*"
      ]
    },
    {
      "cell_type": "code",
      "execution_count": null,
      "metadata": {
        "colab": {
          "base_uri": "https://localhost:8080/",
          "height": 349
        },
        "id": "dgP-onSkjiPB",
        "outputId": "a89b6660-e434-458d-ef6a-9566b2817096"
      },
      "outputs": [
        {
          "data": {
            "image/png": "[encoded data removed]",
            "text/plain": [
              "<Figure size 1080x360 with 2 Axes>"
            ]
          },
          "metadata": {},
          "output_type": "display_data"
        }
      ],
      "source": [
        "countplott('claim', 'building_painted', 'building_fenced')"
      ]
    },
    {
      "cell_type": "markdown",
      "metadata": {
        "id": "cW2bF2kcGPQ-"
      },
      "source": [
        "- Most of the building that were not painted didn't have insurance claim while most of the building that were painted has insurance claim\n",
        "\n",
        "- Most of the fenced building were not insured while most of the non-fenced building were insured."
      ]
    },
    {
      "cell_type": "code",
      "execution_count": null,
      "metadata": {
        "colab": {
          "background_save": true,
          "base_uri": "https://localhost:8080/",
          "height": 403
        },
        "id": "X0dfpL9mnSBS",
        "outputId": "ae6a1bff-e402-4269-ae86-5f0e1701495b"
      },
      "outputs": [
        {
          "data": {
            "image/png": "[encoded data removed]",
            "text/plain": [
              "<Figure size 648x432 with 1 Axes>"
            ]
          },
          "metadata": {},
          "output_type": "display_data"
        }
      ],
      "source": [
        "plt.figure(figsize = (9,6))\n",
        "sns.countplot(x = train['claim'],hue = train['building_type']).set_title(\"Building type with corresponding insurance claim\")\n",
        "plt.show()"
      ]
    },
    {
      "cell_type": "markdown",
      "metadata": {
        "id": "NDCeHm66xO8m"
      },
      "source": [
        "Genrally, building type has the highest frequency, hence, it has the highest value for most insured and non insured building"
      ]
    },
    {
      "cell_type": "code",
      "execution_count": null,
      "metadata": {
        "colab": {
          "base_uri": "https://localhost:8080/",
          "height": 403
        },
        "id": "Ookwf7Toz3bb",
        "outputId": "b8a6443d-bf27-4ff4-a3a9-58aaaba29984"
      },
      "outputs": [
        {
          "data": {
            "image/png": "[encoded data removed]",
            "text/plain": [
              "<Figure size 1440x432 with 1 Axes>"
            ]
          },
          "metadata": {},
          "output_type": "display_data"
        }
      ],
      "source": [
        "plt.figure(figsize = (20, 6))\n",
        "plt.plot(train['building_dimension'], linestyle = ':')\n",
        "plt.title(\"Building dimension\")\n",
        "plt.xlabel(\"building_dimension\")\n",
        "plt.show()"
      ]
    },
    {
      "cell_type": "code",
      "execution_count": null,
      "metadata": {
        "colab": {
          "base_uri": "https://localhost:8080/",
          "height": 334
        },
        "id": "bTuRfpYE5J8U",
        "outputId": "4763ed45-427d-4117-9d5b-fa93635f050e"
      },
      "outputs": [
        {
          "data": {
            "image/png": "[encoded data removed]",
            "text/plain": [
              "<Figure size 648x360 with 1 Axes>"
            ]
          },
          "metadata": {},
          "output_type": "display_data"
        }
      ],
      "source": [
        "plt.figure(figsize = (9, 5))\n",
        "sns.boxplot(x = train['building_dimension'])\n",
        "plt.show()"
      ]
    },
    {
      "cell_type": "markdown",
      "metadata": {
        "id": "UeMkunCj6KTd"
      },
      "source": [
        "- The building dimension can be up to any size, hence the column will be left skewed."
      ]
    },
    {
      "cell_type": "markdown",
      "metadata": {
        "id": "jgghMdWr7Siv"
      },
      "source": [
        "## Data Preprocessing"
      ]
    },
    {
      "cell_type": "code",
      "execution_count": 38,
      "metadata": {
        "id": "lc1RgGicyLzi"
      },
      "outputs": [],
      "source": [
        "data = train.append(test)"
      ]
    },
    {
      "cell_type": "code",
      "execution_count": 11,
      "metadata": {
        "colab": {
          "base_uri": "https://localhost:8080/"
        },
        "id": "7JLWwbyUe3I_",
        "outputId": "c2f19663-4859-484d-85e6-3236f92afa75"
      },
      "outputs": [
        {
          "output_type": "execute_result",
          "data": {
            "text/plain": [
              "customer_id              0\n",
              "year_obs                 0\n",
              "insured_period           0\n",
              "residential              0\n",
              "building_painted         0\n",
              "building_fenced          0\n",
              "garden                  11\n",
              "settlement               0\n",
              "building_dimension     119\n",
              "building_type            0\n",
              "date_of_occupancy     1236\n",
              "win_num                  0\n",
              "geo_code               115\n",
              "claim                 3069\n",
              "dtype: int64"
            ]
          },
          "metadata": {},
          "execution_count": 11
        }
      ],
      "source": [
        "data.isnull().sum()"
      ]
    },
    {
      "cell_type": "code",
      "execution_count": 39,
      "metadata": {
        "id": "i2Z14VCSN96A"
      },
      "outputs": [],
      "source": [
        "missing_col = ['building_dimension', 'date_of_occupancy']\n",
        "for i in missing_col:\n",
        "  data[i] = data[i].fillna(method = 'ffill')"
      ]
    },
    {
      "cell_type": "code",
      "execution_count": 40,
      "metadata": {
        "id": "cMt_oqzMPU5z"
      },
      "outputs": [],
      "source": [
        "#occupancy age is how long a particular person has been living in the house\n",
        "data['occupancy_age'] = (data['year_obs'] - data['date_of_occupancy']).abs()"
      ]
    },
    {
      "cell_type": "code",
      "execution_count": 41,
      "metadata": {
        "id": "izier3spx8Ii"
      },
      "outputs": [],
      "source": [
        "data = data.drop(['customer_id', 'garden', 'date_of_occupancy', 'year_obs', 'geo_code'], axis = 1)"
      ]
    },
    {
      "cell_type": "code",
      "source": [
        "data['win_num'].unique()"
      ],
      "metadata": {
        "id": "THGaRV_Hj-S2",
        "outputId": "376a909f-44eb-4fff-fab9-290d21f0afa2",
        "colab": {
          "base_uri": "https://localhost:8080/"
        }
      },
      "execution_count": 42,
      "outputs": [
        {
          "output_type": "execute_result",
          "data": {
            "text/plain": [
              "array(['   .', '4', '3', '2', '5', '>=10', '6', '7', '9', '8', '1'],\n",
              "      dtype=object)"
            ]
          },
          "metadata": {},
          "execution_count": 42
        }
      ]
    },
    {
      "cell_type": "code",
      "source": [
        "data['win_num'].mode()"
      ],
      "metadata": {
        "id": "btZK9qE1j3VS",
        "outputId": "dbf51a3e-ef20-41a9-806e-b70c345d4e00",
        "colab": {
          "base_uri": "https://localhost:8080/"
        }
      },
      "execution_count": 43,
      "outputs": [
        {
          "output_type": "execute_result",
          "data": {
            "text/plain": [
              "0       .\n",
              "dtype: object"
            ]
          },
          "metadata": {},
          "execution_count": 43
        }
      ]
    },
    {
      "cell_type": "code",
      "source": [
        "data['win_num'] = data['win_num'].replace(['   .', '>=10'], '10')"
      ],
      "metadata": {
        "id": "bTBp2ItojmRb"
      },
      "execution_count": null,
      "outputs": []
    },
    {
      "cell_type": "code",
      "execution_count": 15,
      "metadata": {
        "colab": {
          "base_uri": "https://localhost:8080/"
        },
        "id": "1Lk7CeAJx74Q",
        "outputId": "fa8d590a-ea5b-4137-fa08-afda2a6bf84d"
      },
      "outputs": [
        {
          "output_type": "execute_result",
          "data": {
            "text/plain": [
              "['building_painted', 'building_fenced', 'settlement', 'win_num']"
            ]
          },
          "metadata": {},
          "execution_count": 15
        }
      ],
      "source": [
        "obj_col = [col for col in data.columns if data[col].dtype == 'object']\n",
        "obj_col"
      ]
    },
    {
      "cell_type": "code",
      "execution_count": 21,
      "metadata": {
        "colab": {
          "base_uri": "https://localhost:8080/",
          "height": 206
        },
        "id": "0oyruSPVYSVs",
        "outputId": "6e05aca8-f6c8-4c37-8cff-e819e94b9f60"
      },
      "outputs": [
        {
          "output_type": "execute_result",
          "data": {
            "text/plain": [
              "   insured_period  residential  building_painted  building_fenced  settlement  \\\n",
              "0             1.0            0               0.0              1.0         1.0   \n",
              "1             1.0            0               1.0              0.0         0.0   \n",
              "2             1.0            0               0.0              1.0         1.0   \n",
              "3             1.0            0               1.0              1.0         1.0   \n",
              "4             1.0            0               1.0              0.0         0.0   \n",
              "\n",
              "   building_dimension  building_type  win_num  claim  occupancy_age  \n",
              "0               290.0              1      0.0    0.0           53.0  \n",
              "1               490.0              1      4.0    0.0          165.0  \n",
              "2               595.0              1      0.0    0.0           54.0  \n",
              "3              2840.0              1      0.0    0.0           53.0  \n",
              "4               680.0              1      3.0    0.0          214.0  "
            ],
            "text/html": [
              "\n",
              "  <div id=\"df-324988a4-c92a-475b-856c-c0f96d41e1e6\">\n",
              "    <div class=\"colab-df-container\">\n",
              "      <div>\n",
              "<style scoped>\n",
              "    .dataframe tbody tr th:only-of-type {\n",
              "        vertical-align: middle;\n",
              "    }\n",
              "\n",
              "    .dataframe tbody tr th {\n",
              "        vertical-align: top;\n",
              "    }\n",
              "\n",
              "    .dataframe thead th {\n",
              "        text-align: right;\n",
              "    }\n",
              "</style>\n",
              "<table border=\"1\" class=\"dataframe\">\n",
              "  <thead>\n",
              "    <tr style=\"text-align: right;\">\n",
              "      <th></th>\n",
              "      <th>insured_period</th>\n",
              "      <th>residential</th>\n",
              "      <th>building_painted</th>\n",
              "      <th>building_fenced</th>\n",
              "      <th>settlement</th>\n",
              "      <th>building_dimension</th>\n",
              "      <th>building_type</th>\n",
              "      <th>win_num</th>\n",
              "      <th>claim</th>\n",
              "      <th>occupancy_age</th>\n",
              "    </tr>\n",
              "  </thead>\n",
              "  <tbody>\n",
              "    <tr>\n",
              "      <th>0</th>\n",
              "      <td>1.0</td>\n",
              "      <td>0</td>\n",
              "      <td>0.0</td>\n",
              "      <td>1.0</td>\n",
              "      <td>1.0</td>\n",
              "      <td>290.0</td>\n",
              "      <td>1</td>\n",
              "      <td>0.0</td>\n",
              "      <td>0.0</td>\n",
              "      <td>53.0</td>\n",
              "    </tr>\n",
              "    <tr>\n",
              "      <th>1</th>\n",
              "      <td>1.0</td>\n",
              "      <td>0</td>\n",
              "      <td>1.0</td>\n",
              "      <td>0.0</td>\n",
              "      <td>0.0</td>\n",
              "      <td>490.0</td>\n",
              "      <td>1</td>\n",
              "      <td>4.0</td>\n",
              "      <td>0.0</td>\n",
              "      <td>165.0</td>\n",
              "    </tr>\n",
              "    <tr>\n",
              "      <th>2</th>\n",
              "      <td>1.0</td>\n",
              "      <td>0</td>\n",
              "      <td>0.0</td>\n",
              "      <td>1.0</td>\n",
              "      <td>1.0</td>\n",
              "      <td>595.0</td>\n",
              "      <td>1</td>\n",
              "      <td>0.0</td>\n",
              "      <td>0.0</td>\n",
              "      <td>54.0</td>\n",
              "    </tr>\n",
              "    <tr>\n",
              "      <th>3</th>\n",
              "      <td>1.0</td>\n",
              "      <td>0</td>\n",
              "      <td>1.0</td>\n",
              "      <td>1.0</td>\n",
              "      <td>1.0</td>\n",
              "      <td>2840.0</td>\n",
              "      <td>1</td>\n",
              "      <td>0.0</td>\n",
              "      <td>0.0</td>\n",
              "      <td>53.0</td>\n",
              "    </tr>\n",
              "    <tr>\n",
              "      <th>4</th>\n",
              "      <td>1.0</td>\n",
              "      <td>0</td>\n",
              "      <td>1.0</td>\n",
              "      <td>0.0</td>\n",
              "      <td>0.0</td>\n",
              "      <td>680.0</td>\n",
              "      <td>1</td>\n",
              "      <td>3.0</td>\n",
              "      <td>0.0</td>\n",
              "      <td>214.0</td>\n",
              "    </tr>\n",
              "  </tbody>\n",
              "</table>\n",
              "</div>\n",
              "      <button class=\"colab-df-convert\" onclick=\"convertToInteractive('df-324988a4-c92a-475b-856c-c0f96d41e1e6')\"\n",
              "              title=\"Convert this dataframe to an interactive table.\"\n",
              "              style=\"display:none;\">\n",
              "        \n",
              "  <svg xmlns=\"http://www.w3.org/2000/svg\" height=\"24px\"viewBox=\"0 0 24 24\"\n",
              "       width=\"24px\">\n",
              "    <path d=\"M0 0h24v24H0V0z\" fill=\"none\"/>\n",
              "    <path d=\"M18.56 5.44l.94 2.06.94-2.06 2.06-.94-2.06-.94-.94-2.06-.94 2.06-2.06.94zm-11 1L8.5 8.5l.94-2.06 2.06-.94-2.06-.94L8.5 2.5l-.94 2.06-2.06.94zm10 10l.94 2.06.94-2.06 2.06-.94-2.06-.94-.94-2.06-.94 2.06-2.06.94z\"/><path d=\"M17.41 7.96l-1.37-1.37c-.4-.4-.92-.59-1.43-.59-.52 0-1.04.2-1.43.59L10.3 9.45l-7.72 7.72c-.78.78-.78 2.05 0 2.83L4 21.41c.39.39.9.59 1.41.59.51 0 1.02-.2 1.41-.59l7.78-7.78 2.81-2.81c.8-.78.8-2.07 0-2.86zM5.41 20L4 18.59l7.72-7.72 1.47 1.35L5.41 20z\"/>\n",
              "  </svg>\n",
              "      </button>\n",
              "      \n",
              "  <style>\n",
              "    .colab-df-container {\n",
              "      display:flex;\n",
              "      flex-wrap:wrap;\n",
              "      gap: 12px;\n",
              "    }\n",
              "\n",
              "    .colab-df-convert {\n",
              "      background-color: #E8F0FE;\n",
              "      border: none;\n",
              "      border-radius: 50%;\n",
              "      cursor: pointer;\n",
              "      display: none;\n",
              "      fill: #1967D2;\n",
              "      height: 32px;\n",
              "      padding: 0 0 0 0;\n",
              "      width: 32px;\n",
              "    }\n",
              "\n",
              "    .colab-df-convert:hover {\n",
              "      background-color: #E2EBFA;\n",
              "      box-shadow: 0px 1px 2px rgba(60, 64, 67, 0.3), 0px 1px 3px 1px rgba(60, 64, 67, 0.15);\n",
              "      fill: #174EA6;\n",
              "    }\n",
              "\n",
              "    [theme=dark] .colab-df-convert {\n",
              "      background-color: #3B4455;\n",
              "      fill: #D2E3FC;\n",
              "    }\n",
              "\n",
              "    [theme=dark] .colab-df-convert:hover {\n",
              "      background-color: #434B5C;\n",
              "      box-shadow: 0px 1px 3px 1px rgba(0, 0, 0, 0.15);\n",
              "      filter: drop-shadow(0px 1px 2px rgba(0, 0, 0, 0.3));\n",
              "      fill: #FFFFFF;\n",
              "    }\n",
              "  </style>\n",
              "\n",
              "      <script>\n",
              "        const buttonEl =\n",
              "          document.querySelector('#df-324988a4-c92a-475b-856c-c0f96d41e1e6 button.colab-df-convert');\n",
              "        buttonEl.style.display =\n",
              "          google.colab.kernel.accessAllowed ? 'block' : 'none';\n",
              "\n",
              "        async function convertToInteractive(key) {\n",
              "          const element = document.querySelector('#df-324988a4-c92a-475b-856c-c0f96d41e1e6');\n",
              "          const dataTable =\n",
              "            await google.colab.kernel.invokeFunction('convertToInteractive',\n",
              "                                                     [key], {});\n",
              "          if (!dataTable) return;\n",
              "\n",
              "          const docLinkHtml = 'Like what you see? Visit the ' +\n",
              "            '<a target=\"_blank\" href=https://colab.research.google.com/notebooks/data_table.ipynb>data table notebook</a>'\n",
              "            + ' to learn more about interactive tables.';\n",
              "          element.innerHTML = '';\n",
              "          dataTable['output_type'] = 'display_data';\n",
              "          await google.colab.output.renderOutput(dataTable, element);\n",
              "          const docLink = document.createElement('div');\n",
              "          docLink.innerHTML = docLinkHtml;\n",
              "          element.appendChild(docLink);\n",
              "        }\n",
              "      </script>\n",
              "    </div>\n",
              "  </div>\n",
              "  "
            ]
          },
          "metadata": {},
          "execution_count": 21
        }
      ],
      "source": [
        "encoder = OrdinalEncoder()\n",
        "for i in obj_col:\n",
        "  data[[i]] = encoder.fit_transform(data[[i]])\n",
        "\n",
        "data.head()"
      ]
    },
    {
      "cell_type": "markdown",
      "source": [
        "## Modelling"
      ],
      "metadata": {
        "id": "fht5HFNVflpe"
      }
    },
    {
      "cell_type": "code",
      "execution_count": 24,
      "metadata": {
        "id": "hFARMcpc-MKx"
      },
      "outputs": [],
      "source": [
        "train_df  = data[~data['claim'].isna()].reset_index(drop=True)\n",
        "test_df = data[data['claim'].isna()].reset_index(drop=True)"
      ]
    },
    {
      "cell_type": "code",
      "source": [
        "train_df.shape, test_df.shape, train.shape, test.shape"
      ],
      "metadata": {
        "id": "F3ke3Kt4gL2x",
        "outputId": "fa3c235e-8edf-4173-ecb7-fe1766601cb6",
        "colab": {
          "base_uri": "https://localhost:8080/"
        }
      },
      "execution_count": 26,
      "outputs": [
        {
          "output_type": "execute_result",
          "data": {
            "text/plain": [
              "((7160, 10), (3069, 10), (7160, 14), (3069, 13))"
            ]
          },
          "metadata": {},
          "execution_count": 26
        }
      ]
    },
    {
      "cell_type": "code",
      "execution_count": 27,
      "metadata": {
        "id": "y-jIAB3T8Yji"
      },
      "outputs": [],
      "source": [
        "x = train_df.drop('claim', axis = 1)\n",
        "y= train_df['claim']\n",
        "x_train, x_test, y_train, y_test = train_test_split(x, y, test_size = 0.3)"
      ]
    },
    {
      "cell_type": "code",
      "source": [
        "rf_base = RandomForestClassifier()\n",
        "rf_base.fit(x_train, y_train)"
      ],
      "metadata": {
        "id": "LQMOld_yhQZn",
        "outputId": "519f1835-25b2-4c33-990e-423e3dca7a00",
        "colab": {
          "base_uri": "https://localhost:8080/"
        }
      },
      "execution_count": 28,
      "outputs": [
        {
          "output_type": "execute_result",
          "data": {
            "text/plain": [
              "RandomForestClassifier()"
            ]
          },
          "metadata": {},
          "execution_count": 28
        }
      ]
    },
    {
      "cell_type": "code",
      "source": [
        "y_pred = rf_base.predict(x_test)\n",
        "\n",
        "accuracy_score(y_pred, y_test)"
      ],
      "metadata": {
        "id": "2LA57T1NhzXg",
        "outputId": "b6ff12d5-bc27-4b95-c624-1fadcba11cb9",
        "colab": {
          "base_uri": "https://localhost:8080/"
        }
      },
      "execution_count": 29,
      "outputs": [
        {
          "output_type": "execute_result",
          "data": {
            "text/plain": [
              "0.7523277467411545"
            ]
          },
          "metadata": {},
          "execution_count": 29
        }
      ]
    },
    {
      "cell_type": "code",
      "source": [
        "cat_base = CatBoostClassifier()\n",
        "cat_base.fit(x_train, y_train)"
      ],
      "metadata": {
        "id": "8WRoGHZUiDbx",
        "outputId": "44878b4a-f662-4f51-9d72-2611cdbb3851",
        "colab": {
          "base_uri": "https://localhost:8080/"
        }
      },
      "execution_count": 30,
      "outputs": [
        {
          "output_type": "stream",
          "name": "stdout",
          "text": [
            "Learning rate set to 0.020504\n",
            "0:\tlearn: 0.6830477\ttotal: 52.9ms\tremaining: 52.8s\n",
            "1:\tlearn: 0.6734576\ttotal: 55.9ms\tremaining: 27.9s\n",
            "2:\tlearn: 0.6642733\ttotal: 58.6ms\tremaining: 19.5s\n",
            "3:\tlearn: 0.6556074\ttotal: 61.3ms\tremaining: 15.3s\n",
            "4:\tlearn: 0.6477138\ttotal: 64.2ms\tremaining: 12.8s\n",
            "5:\tlearn: 0.6402556\ttotal: 67ms\tremaining: 11.1s\n",
            "6:\tlearn: 0.6334116\ttotal: 69.1ms\tremaining: 9.8s\n",
            "7:\tlearn: 0.6263289\ttotal: 72ms\tremaining: 8.93s\n",
            "8:\tlearn: 0.6197983\ttotal: 74.7ms\tremaining: 8.23s\n",
            "9:\tlearn: 0.6138230\ttotal: 77.6ms\tremaining: 7.68s\n",
            "10:\tlearn: 0.6084262\ttotal: 79.7ms\tremaining: 7.17s\n",
            "11:\tlearn: 0.6021127\ttotal: 82.5ms\tremaining: 6.79s\n",
            "12:\tlearn: 0.5966926\ttotal: 85.1ms\tremaining: 6.46s\n",
            "13:\tlearn: 0.5911437\ttotal: 87.7ms\tremaining: 6.18s\n",
            "14:\tlearn: 0.5864639\ttotal: 90.5ms\tremaining: 5.94s\n",
            "15:\tlearn: 0.5813782\ttotal: 93.2ms\tremaining: 5.73s\n",
            "16:\tlearn: 0.5767782\ttotal: 95.9ms\tremaining: 5.55s\n",
            "17:\tlearn: 0.5725000\ttotal: 98.5ms\tremaining: 5.37s\n",
            "18:\tlearn: 0.5685583\ttotal: 101ms\tremaining: 5.21s\n",
            "19:\tlearn: 0.5646424\ttotal: 104ms\tremaining: 5.08s\n",
            "20:\tlearn: 0.5605318\ttotal: 106ms\tremaining: 4.96s\n",
            "21:\tlearn: 0.5565407\ttotal: 109ms\tremaining: 4.86s\n",
            "22:\tlearn: 0.5528580\ttotal: 112ms\tremaining: 4.76s\n",
            "23:\tlearn: 0.5494956\ttotal: 115ms\tremaining: 4.67s\n",
            "24:\tlearn: 0.5460843\ttotal: 118ms\tremaining: 4.59s\n",
            "25:\tlearn: 0.5427989\ttotal: 121ms\tremaining: 4.51s\n",
            "26:\tlearn: 0.5397132\ttotal: 123ms\tremaining: 4.44s\n",
            "27:\tlearn: 0.5368788\ttotal: 126ms\tremaining: 4.38s\n",
            "28:\tlearn: 0.5340214\ttotal: 129ms\tremaining: 4.32s\n",
            "29:\tlearn: 0.5313334\ttotal: 132ms\tremaining: 4.26s\n",
            "30:\tlearn: 0.5286395\ttotal: 134ms\tremaining: 4.2s\n",
            "31:\tlearn: 0.5263308\ttotal: 137ms\tremaining: 4.15s\n",
            "32:\tlearn: 0.5243141\ttotal: 140ms\tremaining: 4.1s\n",
            "33:\tlearn: 0.5222299\ttotal: 143ms\tremaining: 4.06s\n",
            "34:\tlearn: 0.5202419\ttotal: 145ms\tremaining: 4s\n",
            "35:\tlearn: 0.5182273\ttotal: 148ms\tremaining: 3.96s\n",
            "36:\tlearn: 0.5159355\ttotal: 151ms\tremaining: 3.92s\n",
            "37:\tlearn: 0.5140943\ttotal: 154ms\tremaining: 3.89s\n",
            "38:\tlearn: 0.5122619\ttotal: 156ms\tremaining: 3.85s\n",
            "39:\tlearn: 0.5106334\ttotal: 159ms\tremaining: 3.82s\n",
            "40:\tlearn: 0.5087126\ttotal: 162ms\tremaining: 3.78s\n",
            "41:\tlearn: 0.5073691\ttotal: 164ms\tremaining: 3.73s\n",
            "42:\tlearn: 0.5058134\ttotal: 166ms\tremaining: 3.7s\n",
            "43:\tlearn: 0.5041940\ttotal: 169ms\tremaining: 3.67s\n",
            "44:\tlearn: 0.5025951\ttotal: 172ms\tremaining: 3.65s\n",
            "45:\tlearn: 0.5011337\ttotal: 175ms\tremaining: 3.62s\n",
            "46:\tlearn: 0.4999900\ttotal: 177ms\tremaining: 3.59s\n",
            "47:\tlearn: 0.4986408\ttotal: 180ms\tremaining: 3.57s\n",
            "48:\tlearn: 0.4972290\ttotal: 183ms\tremaining: 3.54s\n",
            "49:\tlearn: 0.4959763\ttotal: 185ms\tremaining: 3.52s\n",
            "50:\tlearn: 0.4947194\ttotal: 189ms\tremaining: 3.52s\n",
            "51:\tlearn: 0.4935429\ttotal: 196ms\tremaining: 3.57s\n",
            "52:\tlearn: 0.4924670\ttotal: 199ms\tremaining: 3.55s\n",
            "53:\tlearn: 0.4914518\ttotal: 202ms\tremaining: 3.54s\n",
            "54:\tlearn: 0.4902564\ttotal: 205ms\tremaining: 3.53s\n",
            "55:\tlearn: 0.4893230\ttotal: 208ms\tremaining: 3.51s\n",
            "56:\tlearn: 0.4883584\ttotal: 211ms\tremaining: 3.49s\n",
            "57:\tlearn: 0.4874914\ttotal: 214ms\tremaining: 3.47s\n",
            "58:\tlearn: 0.4865908\ttotal: 217ms\tremaining: 3.46s\n",
            "59:\tlearn: 0.4856476\ttotal: 220ms\tremaining: 3.44s\n",
            "60:\tlearn: 0.4849943\ttotal: 222ms\tremaining: 3.42s\n",
            "61:\tlearn: 0.4843381\ttotal: 225ms\tremaining: 3.4s\n",
            "62:\tlearn: 0.4835390\ttotal: 228ms\tremaining: 3.4s\n",
            "63:\tlearn: 0.4829901\ttotal: 231ms\tremaining: 3.38s\n",
            "64:\tlearn: 0.4821530\ttotal: 234ms\tremaining: 3.37s\n",
            "65:\tlearn: 0.4814880\ttotal: 237ms\tremaining: 3.35s\n",
            "66:\tlearn: 0.4808504\ttotal: 240ms\tremaining: 3.34s\n",
            "67:\tlearn: 0.4801765\ttotal: 243ms\tremaining: 3.32s\n",
            "68:\tlearn: 0.4794757\ttotal: 245ms\tremaining: 3.31s\n",
            "69:\tlearn: 0.4788116\ttotal: 248ms\tremaining: 3.29s\n",
            "70:\tlearn: 0.4781749\ttotal: 251ms\tremaining: 3.28s\n",
            "71:\tlearn: 0.4774240\ttotal: 254ms\tremaining: 3.27s\n",
            "72:\tlearn: 0.4767569\ttotal: 257ms\tremaining: 3.26s\n",
            "73:\tlearn: 0.4761385\ttotal: 259ms\tremaining: 3.24s\n",
            "74:\tlearn: 0.4754800\ttotal: 262ms\tremaining: 3.23s\n",
            "75:\tlearn: 0.4749705\ttotal: 265ms\tremaining: 3.22s\n",
            "76:\tlearn: 0.4745068\ttotal: 268ms\tremaining: 3.21s\n",
            "77:\tlearn: 0.4740622\ttotal: 270ms\tremaining: 3.2s\n",
            "78:\tlearn: 0.4735623\ttotal: 273ms\tremaining: 3.19s\n",
            "79:\tlearn: 0.4730890\ttotal: 276ms\tremaining: 3.17s\n",
            "80:\tlearn: 0.4726653\ttotal: 279ms\tremaining: 3.16s\n",
            "81:\tlearn: 0.4721318\ttotal: 282ms\tremaining: 3.15s\n",
            "82:\tlearn: 0.4716987\ttotal: 284ms\tremaining: 3.14s\n",
            "83:\tlearn: 0.4711588\ttotal: 287ms\tremaining: 3.13s\n",
            "84:\tlearn: 0.4706918\ttotal: 290ms\tremaining: 3.12s\n",
            "85:\tlearn: 0.4701995\ttotal: 293ms\tremaining: 3.11s\n",
            "86:\tlearn: 0.4697584\ttotal: 295ms\tremaining: 3.1s\n",
            "87:\tlearn: 0.4696024\ttotal: 297ms\tremaining: 3.08s\n",
            "88:\tlearn: 0.4692864\ttotal: 300ms\tremaining: 3.07s\n",
            "89:\tlearn: 0.4688487\ttotal: 303ms\tremaining: 3.06s\n",
            "90:\tlearn: 0.4684542\ttotal: 306ms\tremaining: 3.06s\n",
            "91:\tlearn: 0.4681633\ttotal: 309ms\tremaining: 3.05s\n",
            "92:\tlearn: 0.4679419\ttotal: 311ms\tremaining: 3.03s\n",
            "93:\tlearn: 0.4675597\ttotal: 314ms\tremaining: 3.02s\n",
            "94:\tlearn: 0.4671792\ttotal: 316ms\tremaining: 3.01s\n",
            "95:\tlearn: 0.4669045\ttotal: 319ms\tremaining: 3.01s\n",
            "96:\tlearn: 0.4666068\ttotal: 322ms\tremaining: 3s\n",
            "97:\tlearn: 0.4661719\ttotal: 325ms\tremaining: 2.99s\n",
            "98:\tlearn: 0.4658908\ttotal: 327ms\tremaining: 2.98s\n",
            "99:\tlearn: 0.4656449\ttotal: 330ms\tremaining: 2.97s\n",
            "100:\tlearn: 0.4653161\ttotal: 333ms\tremaining: 2.96s\n",
            "101:\tlearn: 0.4650891\ttotal: 336ms\tremaining: 2.96s\n",
            "102:\tlearn: 0.4648290\ttotal: 339ms\tremaining: 2.95s\n",
            "103:\tlearn: 0.4645655\ttotal: 341ms\tremaining: 2.94s\n",
            "104:\tlearn: 0.4642455\ttotal: 344ms\tremaining: 2.93s\n",
            "105:\tlearn: 0.4640516\ttotal: 347ms\tremaining: 2.92s\n",
            "106:\tlearn: 0.4638532\ttotal: 349ms\tremaining: 2.92s\n",
            "107:\tlearn: 0.4635194\ttotal: 352ms\tremaining: 2.91s\n",
            "108:\tlearn: 0.4632138\ttotal: 355ms\tremaining: 2.9s\n",
            "109:\tlearn: 0.4629467\ttotal: 358ms\tremaining: 2.89s\n",
            "110:\tlearn: 0.4627684\ttotal: 360ms\tremaining: 2.89s\n",
            "111:\tlearn: 0.4625698\ttotal: 363ms\tremaining: 2.88s\n",
            "112:\tlearn: 0.4623804\ttotal: 366ms\tremaining: 2.87s\n",
            "113:\tlearn: 0.4622233\ttotal: 371ms\tremaining: 2.88s\n",
            "114:\tlearn: 0.4620355\ttotal: 374ms\tremaining: 2.88s\n",
            "115:\tlearn: 0.4618119\ttotal: 380ms\tremaining: 2.9s\n",
            "116:\tlearn: 0.4616254\ttotal: 384ms\tremaining: 2.9s\n",
            "117:\tlearn: 0.4614397\ttotal: 390ms\tremaining: 2.92s\n",
            "118:\tlearn: 0.4612799\ttotal: 394ms\tremaining: 2.92s\n",
            "119:\tlearn: 0.4610552\ttotal: 397ms\tremaining: 2.91s\n",
            "120:\tlearn: 0.4608775\ttotal: 400ms\tremaining: 2.91s\n",
            "121:\tlearn: 0.4607171\ttotal: 403ms\tremaining: 2.9s\n",
            "122:\tlearn: 0.4604800\ttotal: 407ms\tremaining: 2.9s\n",
            "123:\tlearn: 0.4603303\ttotal: 410ms\tremaining: 2.89s\n",
            "124:\tlearn: 0.4601354\ttotal: 412ms\tremaining: 2.88s\n",
            "125:\tlearn: 0.4600222\ttotal: 415ms\tremaining: 2.88s\n",
            "126:\tlearn: 0.4598558\ttotal: 418ms\tremaining: 2.87s\n",
            "127:\tlearn: 0.4596314\ttotal: 421ms\tremaining: 2.87s\n",
            "128:\tlearn: 0.4594029\ttotal: 424ms\tremaining: 2.86s\n",
            "129:\tlearn: 0.4591832\ttotal: 426ms\tremaining: 2.85s\n",
            "130:\tlearn: 0.4589117\ttotal: 429ms\tremaining: 2.85s\n",
            "131:\tlearn: 0.4586768\ttotal: 432ms\tremaining: 2.84s\n",
            "132:\tlearn: 0.4585712\ttotal: 434ms\tremaining: 2.83s\n",
            "133:\tlearn: 0.4583495\ttotal: 437ms\tremaining: 2.82s\n",
            "134:\tlearn: 0.4581056\ttotal: 440ms\tremaining: 2.82s\n",
            "135:\tlearn: 0.4579044\ttotal: 443ms\tremaining: 2.81s\n",
            "136:\tlearn: 0.4576946\ttotal: 446ms\tremaining: 2.81s\n",
            "137:\tlearn: 0.4574662\ttotal: 449ms\tremaining: 2.8s\n",
            "138:\tlearn: 0.4572859\ttotal: 452ms\tremaining: 2.8s\n",
            "139:\tlearn: 0.4572011\ttotal: 455ms\tremaining: 2.79s\n",
            "140:\tlearn: 0.4569865\ttotal: 458ms\tremaining: 2.79s\n",
            "141:\tlearn: 0.4568365\ttotal: 460ms\tremaining: 2.78s\n",
            "142:\tlearn: 0.4566651\ttotal: 463ms\tremaining: 2.77s\n",
            "143:\tlearn: 0.4564931\ttotal: 466ms\tremaining: 2.77s\n",
            "144:\tlearn: 0.4563373\ttotal: 469ms\tremaining: 2.76s\n",
            "145:\tlearn: 0.4561966\ttotal: 472ms\tremaining: 2.76s\n",
            "146:\tlearn: 0.4560622\ttotal: 474ms\tremaining: 2.75s\n",
            "147:\tlearn: 0.4558731\ttotal: 477ms\tremaining: 2.75s\n",
            "148:\tlearn: 0.4556369\ttotal: 480ms\tremaining: 2.74s\n",
            "149:\tlearn: 0.4555256\ttotal: 483ms\tremaining: 2.73s\n",
            "150:\tlearn: 0.4553433\ttotal: 486ms\tremaining: 2.73s\n",
            "151:\tlearn: 0.4552002\ttotal: 488ms\tremaining: 2.72s\n",
            "152:\tlearn: 0.4550004\ttotal: 491ms\tremaining: 2.72s\n",
            "153:\tlearn: 0.4548554\ttotal: 494ms\tremaining: 2.71s\n",
            "154:\tlearn: 0.4547477\ttotal: 497ms\tremaining: 2.71s\n",
            "155:\tlearn: 0.4545463\ttotal: 500ms\tremaining: 2.7s\n",
            "156:\tlearn: 0.4545061\ttotal: 501ms\tremaining: 2.69s\n",
            "157:\tlearn: 0.4544195\ttotal: 504ms\tremaining: 2.69s\n",
            "158:\tlearn: 0.4542937\ttotal: 507ms\tremaining: 2.68s\n",
            "159:\tlearn: 0.4541523\ttotal: 510ms\tremaining: 2.68s\n",
            "160:\tlearn: 0.4540265\ttotal: 513ms\tremaining: 2.67s\n",
            "161:\tlearn: 0.4538119\ttotal: 515ms\tremaining: 2.67s\n",
            "162:\tlearn: 0.4537168\ttotal: 518ms\tremaining: 2.66s\n",
            "163:\tlearn: 0.4535633\ttotal: 521ms\tremaining: 2.65s\n",
            "164:\tlearn: 0.4534060\ttotal: 524ms\tremaining: 2.65s\n",
            "165:\tlearn: 0.4532821\ttotal: 526ms\tremaining: 2.64s\n",
            "166:\tlearn: 0.4531153\ttotal: 529ms\tremaining: 2.64s\n",
            "167:\tlearn: 0.4529969\ttotal: 532ms\tremaining: 2.63s\n",
            "168:\tlearn: 0.4528827\ttotal: 535ms\tremaining: 2.63s\n",
            "169:\tlearn: 0.4526898\ttotal: 538ms\tremaining: 2.63s\n",
            "170:\tlearn: 0.4524941\ttotal: 541ms\tremaining: 2.62s\n",
            "171:\tlearn: 0.4523743\ttotal: 543ms\tremaining: 2.61s\n",
            "172:\tlearn: 0.4522992\ttotal: 546ms\tremaining: 2.61s\n",
            "173:\tlearn: 0.4521659\ttotal: 549ms\tremaining: 2.6s\n",
            "174:\tlearn: 0.4520760\ttotal: 552ms\tremaining: 2.6s\n",
            "175:\tlearn: 0.4520554\ttotal: 554ms\tremaining: 2.6s\n",
            "176:\tlearn: 0.4519107\ttotal: 557ms\tremaining: 2.59s\n",
            "177:\tlearn: 0.4517976\ttotal: 560ms\tremaining: 2.59s\n",
            "178:\tlearn: 0.4516863\ttotal: 563ms\tremaining: 2.58s\n",
            "179:\tlearn: 0.4515494\ttotal: 568ms\tremaining: 2.59s\n",
            "180:\tlearn: 0.4514519\ttotal: 573ms\tremaining: 2.59s\n",
            "181:\tlearn: 0.4513275\ttotal: 576ms\tremaining: 2.59s\n",
            "182:\tlearn: 0.4511565\ttotal: 579ms\tremaining: 2.58s\n",
            "183:\tlearn: 0.4510883\ttotal: 582ms\tremaining: 2.58s\n",
            "184:\tlearn: 0.4509954\ttotal: 584ms\tremaining: 2.57s\n",
            "185:\tlearn: 0.4508447\ttotal: 587ms\tremaining: 2.57s\n",
            "186:\tlearn: 0.4507244\ttotal: 590ms\tremaining: 2.56s\n",
            "187:\tlearn: 0.4506355\ttotal: 593ms\tremaining: 2.56s\n",
            "188:\tlearn: 0.4504757\ttotal: 595ms\tremaining: 2.56s\n",
            "189:\tlearn: 0.4503243\ttotal: 598ms\tremaining: 2.55s\n",
            "190:\tlearn: 0.4502480\ttotal: 601ms\tremaining: 2.55s\n",
            "191:\tlearn: 0.4501466\ttotal: 604ms\tremaining: 2.54s\n",
            "192:\tlearn: 0.4500722\ttotal: 607ms\tremaining: 2.54s\n",
            "193:\tlearn: 0.4499703\ttotal: 610ms\tremaining: 2.53s\n",
            "194:\tlearn: 0.4498253\ttotal: 612ms\tremaining: 2.53s\n",
            "195:\tlearn: 0.4496762\ttotal: 615ms\tremaining: 2.52s\n",
            "196:\tlearn: 0.4495601\ttotal: 618ms\tremaining: 2.52s\n",
            "197:\tlearn: 0.4494269\ttotal: 621ms\tremaining: 2.51s\n",
            "198:\tlearn: 0.4492943\ttotal: 623ms\tremaining: 2.51s\n",
            "199:\tlearn: 0.4492248\ttotal: 626ms\tremaining: 2.5s\n",
            "200:\tlearn: 0.4490835\ttotal: 629ms\tremaining: 2.5s\n",
            "201:\tlearn: 0.4490757\ttotal: 631ms\tremaining: 2.49s\n",
            "202:\tlearn: 0.4489910\ttotal: 634ms\tremaining: 2.49s\n",
            "203:\tlearn: 0.4488925\ttotal: 637ms\tremaining: 2.48s\n",
            "204:\tlearn: 0.4487280\ttotal: 640ms\tremaining: 2.48s\n",
            "205:\tlearn: 0.4485875\ttotal: 642ms\tremaining: 2.48s\n",
            "206:\tlearn: 0.4484893\ttotal: 645ms\tremaining: 2.47s\n",
            "207:\tlearn: 0.4484069\ttotal: 648ms\tremaining: 2.47s\n",
            "208:\tlearn: 0.4483107\ttotal: 651ms\tremaining: 2.46s\n",
            "209:\tlearn: 0.4482287\ttotal: 653ms\tremaining: 2.46s\n",
            "210:\tlearn: 0.4480954\ttotal: 656ms\tremaining: 2.45s\n",
            "211:\tlearn: 0.4480120\ttotal: 659ms\tremaining: 2.45s\n",
            "212:\tlearn: 0.4479052\ttotal: 661ms\tremaining: 2.44s\n",
            "213:\tlearn: 0.4478484\ttotal: 664ms\tremaining: 2.44s\n",
            "214:\tlearn: 0.4477816\ttotal: 667ms\tremaining: 2.44s\n",
            "215:\tlearn: 0.4476439\ttotal: 670ms\tremaining: 2.43s\n",
            "216:\tlearn: 0.4475189\ttotal: 673ms\tremaining: 2.43s\n",
            "217:\tlearn: 0.4473847\ttotal: 676ms\tremaining: 2.42s\n",
            "218:\tlearn: 0.4472495\ttotal: 679ms\tremaining: 2.42s\n",
            "219:\tlearn: 0.4471676\ttotal: 682ms\tremaining: 2.42s\n",
            "220:\tlearn: 0.4470468\ttotal: 685ms\tremaining: 2.41s\n",
            "221:\tlearn: 0.4469306\ttotal: 687ms\tremaining: 2.41s\n",
            "222:\tlearn: 0.4468152\ttotal: 690ms\tremaining: 2.4s\n",
            "223:\tlearn: 0.4467210\ttotal: 693ms\tremaining: 2.4s\n",
            "224:\tlearn: 0.4466446\ttotal: 696ms\tremaining: 2.4s\n",
            "225:\tlearn: 0.4465964\ttotal: 699ms\tremaining: 2.39s\n",
            "226:\tlearn: 0.4465032\ttotal: 703ms\tremaining: 2.4s\n",
            "227:\tlearn: 0.4464377\ttotal: 706ms\tremaining: 2.39s\n",
            "228:\tlearn: 0.4463698\ttotal: 709ms\tremaining: 2.39s\n",
            "229:\tlearn: 0.4463170\ttotal: 712ms\tremaining: 2.38s\n",
            "230:\tlearn: 0.4462329\ttotal: 715ms\tremaining: 2.38s\n",
            "231:\tlearn: 0.4461279\ttotal: 718ms\tremaining: 2.38s\n",
            "232:\tlearn: 0.4459883\ttotal: 721ms\tremaining: 2.37s\n",
            "233:\tlearn: 0.4458374\ttotal: 724ms\tremaining: 2.37s\n",
            "234:\tlearn: 0.4457543\ttotal: 727ms\tremaining: 2.37s\n",
            "235:\tlearn: 0.4456727\ttotal: 730ms\tremaining: 2.36s\n",
            "236:\tlearn: 0.4455373\ttotal: 733ms\tremaining: 2.36s\n",
            "237:\tlearn: 0.4453973\ttotal: 736ms\tremaining: 2.35s\n",
            "238:\tlearn: 0.4451776\ttotal: 738ms\tremaining: 2.35s\n",
            "239:\tlearn: 0.4451079\ttotal: 742ms\tremaining: 2.35s\n",
            "240:\tlearn: 0.4450038\ttotal: 747ms\tremaining: 2.35s\n",
            "241:\tlearn: 0.4448917\ttotal: 750ms\tremaining: 2.35s\n",
            "242:\tlearn: 0.4447250\ttotal: 753ms\tremaining: 2.35s\n",
            "243:\tlearn: 0.4445865\ttotal: 756ms\tremaining: 2.34s\n",
            "244:\tlearn: 0.4444689\ttotal: 759ms\tremaining: 2.34s\n",
            "245:\tlearn: 0.4443911\ttotal: 762ms\tremaining: 2.34s\n",
            "246:\tlearn: 0.4442984\ttotal: 769ms\tremaining: 2.34s\n",
            "247:\tlearn: 0.4441918\ttotal: 771ms\tremaining: 2.34s\n",
            "248:\tlearn: 0.4440786\ttotal: 774ms\tremaining: 2.33s\n",
            "249:\tlearn: 0.4440017\ttotal: 777ms\tremaining: 2.33s\n",
            "250:\tlearn: 0.4438973\ttotal: 779ms\tremaining: 2.33s\n",
            "251:\tlearn: 0.4438003\ttotal: 782ms\tremaining: 2.32s\n",
            "252:\tlearn: 0.4437384\ttotal: 785ms\tremaining: 2.32s\n",
            "253:\tlearn: 0.4436398\ttotal: 788ms\tremaining: 2.31s\n",
            "254:\tlearn: 0.4434887\ttotal: 790ms\tremaining: 2.31s\n",
            "255:\tlearn: 0.4434121\ttotal: 793ms\tremaining: 2.31s\n",
            "256:\tlearn: 0.4433280\ttotal: 796ms\tremaining: 2.3s\n",
            "257:\tlearn: 0.4432134\ttotal: 799ms\tremaining: 2.3s\n",
            "258:\tlearn: 0.4430984\ttotal: 801ms\tremaining: 2.29s\n",
            "259:\tlearn: 0.4429950\ttotal: 804ms\tremaining: 2.29s\n",
            "260:\tlearn: 0.4428345\ttotal: 807ms\tremaining: 2.28s\n",
            "261:\tlearn: 0.4427514\ttotal: 810ms\tremaining: 2.28s\n",
            "262:\tlearn: 0.4425848\ttotal: 812ms\tremaining: 2.28s\n",
            "263:\tlearn: 0.4424846\ttotal: 815ms\tremaining: 2.27s\n",
            "264:\tlearn: 0.4423825\ttotal: 818ms\tremaining: 2.27s\n",
            "265:\tlearn: 0.4422872\ttotal: 821ms\tremaining: 2.26s\n",
            "266:\tlearn: 0.4421321\ttotal: 824ms\tremaining: 2.26s\n",
            "267:\tlearn: 0.4420920\ttotal: 827ms\tremaining: 2.26s\n",
            "268:\tlearn: 0.4419593\ttotal: 829ms\tremaining: 2.25s\n",
            "269:\tlearn: 0.4418593\ttotal: 832ms\tremaining: 2.25s\n",
            "270:\tlearn: 0.4417498\ttotal: 835ms\tremaining: 2.25s\n",
            "271:\tlearn: 0.4417021\ttotal: 837ms\tremaining: 2.24s\n",
            "272:\tlearn: 0.4416096\ttotal: 840ms\tremaining: 2.24s\n",
            "273:\tlearn: 0.4414897\ttotal: 843ms\tremaining: 2.23s\n",
            "274:\tlearn: 0.4414234\ttotal: 846ms\tremaining: 2.23s\n",
            "275:\tlearn: 0.4412929\ttotal: 848ms\tremaining: 2.23s\n",
            "276:\tlearn: 0.4411767\ttotal: 851ms\tremaining: 2.22s\n",
            "277:\tlearn: 0.4410988\ttotal: 854ms\tremaining: 2.22s\n",
            "278:\tlearn: 0.4410438\ttotal: 857ms\tremaining: 2.21s\n",
            "279:\tlearn: 0.4409357\ttotal: 859ms\tremaining: 2.21s\n",
            "280:\tlearn: 0.4408669\ttotal: 862ms\tremaining: 2.21s\n",
            "281:\tlearn: 0.4407315\ttotal: 865ms\tremaining: 2.2s\n",
            "282:\tlearn: 0.4406343\ttotal: 868ms\tremaining: 2.2s\n",
            "283:\tlearn: 0.4405260\ttotal: 870ms\tremaining: 2.19s\n",
            "284:\tlearn: 0.4403717\ttotal: 873ms\tremaining: 2.19s\n",
            "285:\tlearn: 0.4402535\ttotal: 876ms\tremaining: 2.19s\n",
            "286:\tlearn: 0.4401552\ttotal: 878ms\tremaining: 2.18s\n",
            "287:\tlearn: 0.4400585\ttotal: 881ms\tremaining: 2.18s\n",
            "288:\tlearn: 0.4400051\ttotal: 884ms\tremaining: 2.17s\n",
            "289:\tlearn: 0.4399654\ttotal: 887ms\tremaining: 2.17s\n",
            "290:\tlearn: 0.4399234\ttotal: 889ms\tremaining: 2.17s\n",
            "291:\tlearn: 0.4398370\ttotal: 892ms\tremaining: 2.16s\n",
            "292:\tlearn: 0.4397631\ttotal: 895ms\tremaining: 2.16s\n",
            "293:\tlearn: 0.4396721\ttotal: 897ms\tremaining: 2.15s\n",
            "294:\tlearn: 0.4395932\ttotal: 901ms\tremaining: 2.15s\n",
            "295:\tlearn: 0.4394931\ttotal: 904ms\tremaining: 2.15s\n",
            "296:\tlearn: 0.4393483\ttotal: 907ms\tremaining: 2.15s\n",
            "297:\tlearn: 0.4391531\ttotal: 910ms\tremaining: 2.14s\n",
            "298:\tlearn: 0.4390838\ttotal: 913ms\tremaining: 2.14s\n",
            "299:\tlearn: 0.4389732\ttotal: 915ms\tremaining: 2.13s\n",
            "300:\tlearn: 0.4388600\ttotal: 918ms\tremaining: 2.13s\n",
            "301:\tlearn: 0.4388116\ttotal: 921ms\tremaining: 2.13s\n",
            "302:\tlearn: 0.4387826\ttotal: 924ms\tremaining: 2.12s\n",
            "303:\tlearn: 0.4387140\ttotal: 926ms\tremaining: 2.12s\n",
            "304:\tlearn: 0.4386496\ttotal: 929ms\tremaining: 2.12s\n",
            "305:\tlearn: 0.4385205\ttotal: 932ms\tremaining: 2.11s\n",
            "306:\tlearn: 0.4384740\ttotal: 935ms\tremaining: 2.11s\n",
            "307:\tlearn: 0.4383440\ttotal: 937ms\tremaining: 2.11s\n",
            "308:\tlearn: 0.4382775\ttotal: 940ms\tremaining: 2.1s\n",
            "309:\tlearn: 0.4382343\ttotal: 943ms\tremaining: 2.1s\n",
            "310:\tlearn: 0.4381672\ttotal: 945ms\tremaining: 2.09s\n",
            "311:\tlearn: 0.4381061\ttotal: 948ms\tremaining: 2.09s\n",
            "312:\tlearn: 0.4379685\ttotal: 951ms\tremaining: 2.09s\n",
            "313:\tlearn: 0.4378866\ttotal: 957ms\tremaining: 2.09s\n",
            "314:\tlearn: 0.4378115\ttotal: 961ms\tremaining: 2.09s\n",
            "315:\tlearn: 0.4377060\ttotal: 964ms\tremaining: 2.09s\n",
            "316:\tlearn: 0.4376352\ttotal: 967ms\tremaining: 2.08s\n",
            "317:\tlearn: 0.4375494\ttotal: 970ms\tremaining: 2.08s\n",
            "318:\tlearn: 0.4375242\ttotal: 972ms\tremaining: 2.08s\n",
            "319:\tlearn: 0.4374296\ttotal: 975ms\tremaining: 2.07s\n",
            "320:\tlearn: 0.4373820\ttotal: 978ms\tremaining: 2.07s\n",
            "321:\tlearn: 0.4372452\ttotal: 981ms\tremaining: 2.07s\n",
            "322:\tlearn: 0.4371617\ttotal: 984ms\tremaining: 2.06s\n",
            "323:\tlearn: 0.4370748\ttotal: 987ms\tremaining: 2.06s\n",
            "324:\tlearn: 0.4369414\ttotal: 989ms\tremaining: 2.05s\n",
            "325:\tlearn: 0.4368813\ttotal: 992ms\tremaining: 2.05s\n",
            "326:\tlearn: 0.4367923\ttotal: 995ms\tremaining: 2.05s\n",
            "327:\tlearn: 0.4367519\ttotal: 998ms\tremaining: 2.04s\n",
            "328:\tlearn: 0.4366087\ttotal: 1s\tremaining: 2.04s\n",
            "329:\tlearn: 0.4365069\ttotal: 1s\tremaining: 2.04s\n",
            "330:\tlearn: 0.4364311\ttotal: 1s\tremaining: 2.03s\n",
            "331:\tlearn: 0.4363288\ttotal: 1.01s\tremaining: 2.03s\n",
            "332:\tlearn: 0.4362486\ttotal: 1.01s\tremaining: 2.02s\n",
            "333:\tlearn: 0.4361922\ttotal: 1.01s\tremaining: 2.02s\n",
            "334:\tlearn: 0.4361424\ttotal: 1.02s\tremaining: 2.02s\n",
            "335:\tlearn: 0.4360842\ttotal: 1.02s\tremaining: 2.01s\n",
            "336:\tlearn: 0.4360267\ttotal: 1.02s\tremaining: 2.01s\n",
            "337:\tlearn: 0.4360238\ttotal: 1.02s\tremaining: 2s\n",
            "338:\tlearn: 0.4359449\ttotal: 1.03s\tremaining: 2s\n",
            "339:\tlearn: 0.4358859\ttotal: 1.03s\tremaining: 2s\n",
            "340:\tlearn: 0.4357150\ttotal: 1.03s\tremaining: 2s\n",
            "341:\tlearn: 0.4356594\ttotal: 1.03s\tremaining: 1.99s\n",
            "342:\tlearn: 0.4354427\ttotal: 1.04s\tremaining: 1.99s\n",
            "343:\tlearn: 0.4352983\ttotal: 1.04s\tremaining: 1.98s\n",
            "344:\tlearn: 0.4351853\ttotal: 1.04s\tremaining: 1.98s\n",
            "345:\tlearn: 0.4350837\ttotal: 1.04s\tremaining: 1.98s\n",
            "346:\tlearn: 0.4349720\ttotal: 1.05s\tremaining: 1.97s\n",
            "347:\tlearn: 0.4348779\ttotal: 1.05s\tremaining: 1.97s\n",
            "348:\tlearn: 0.4348162\ttotal: 1.05s\tremaining: 1.97s\n",
            "349:\tlearn: 0.4347785\ttotal: 1.06s\tremaining: 1.96s\n",
            "350:\tlearn: 0.4347065\ttotal: 1.06s\tremaining: 1.96s\n",
            "351:\tlearn: 0.4345825\ttotal: 1.06s\tremaining: 1.96s\n",
            "352:\tlearn: 0.4344726\ttotal: 1.06s\tremaining: 1.95s\n",
            "353:\tlearn: 0.4344089\ttotal: 1.07s\tremaining: 1.95s\n",
            "354:\tlearn: 0.4342743\ttotal: 1.07s\tremaining: 1.95s\n",
            "355:\tlearn: 0.4342034\ttotal: 1.07s\tremaining: 1.94s\n",
            "356:\tlearn: 0.4340624\ttotal: 1.08s\tremaining: 1.94s\n",
            "357:\tlearn: 0.4339342\ttotal: 1.08s\tremaining: 1.93s\n",
            "358:\tlearn: 0.4338252\ttotal: 1.08s\tremaining: 1.93s\n",
            "359:\tlearn: 0.4336799\ttotal: 1.08s\tremaining: 1.93s\n",
            "360:\tlearn: 0.4335569\ttotal: 1.09s\tremaining: 1.92s\n",
            "361:\tlearn: 0.4334865\ttotal: 1.09s\tremaining: 1.92s\n",
            "362:\tlearn: 0.4334210\ttotal: 1.09s\tremaining: 1.92s\n",
            "363:\tlearn: 0.4333067\ttotal: 1.1s\tremaining: 1.92s\n",
            "364:\tlearn: 0.4332124\ttotal: 1.1s\tremaining: 1.91s\n",
            "365:\tlearn: 0.4331327\ttotal: 1.11s\tremaining: 1.92s\n",
            "366:\tlearn: 0.4329349\ttotal: 1.11s\tremaining: 1.91s\n",
            "367:\tlearn: 0.4328360\ttotal: 1.11s\tremaining: 1.91s\n",
            "368:\tlearn: 0.4327723\ttotal: 1.11s\tremaining: 1.91s\n",
            "369:\tlearn: 0.4327291\ttotal: 1.12s\tremaining: 1.9s\n",
            "370:\tlearn: 0.4326208\ttotal: 1.12s\tremaining: 1.9s\n",
            "371:\tlearn: 0.4325603\ttotal: 1.12s\tremaining: 1.9s\n",
            "372:\tlearn: 0.4324665\ttotal: 1.13s\tremaining: 1.89s\n",
            "373:\tlearn: 0.4323721\ttotal: 1.13s\tremaining: 1.89s\n",
            "374:\tlearn: 0.4322700\ttotal: 1.13s\tremaining: 1.89s\n",
            "375:\tlearn: 0.4321709\ttotal: 1.13s\tremaining: 1.88s\n",
            "376:\tlearn: 0.4320808\ttotal: 1.14s\tremaining: 1.88s\n",
            "377:\tlearn: 0.4320265\ttotal: 1.14s\tremaining: 1.87s\n",
            "378:\tlearn: 0.4319259\ttotal: 1.14s\tremaining: 1.87s\n",
            "379:\tlearn: 0.4317853\ttotal: 1.15s\tremaining: 1.87s\n",
            "380:\tlearn: 0.4317182\ttotal: 1.15s\tremaining: 1.87s\n",
            "381:\tlearn: 0.4316283\ttotal: 1.15s\tremaining: 1.86s\n",
            "382:\tlearn: 0.4314916\ttotal: 1.16s\tremaining: 1.86s\n",
            "383:\tlearn: 0.4314442\ttotal: 1.16s\tremaining: 1.86s\n",
            "384:\tlearn: 0.4313288\ttotal: 1.16s\tremaining: 1.85s\n",
            "385:\tlearn: 0.4312966\ttotal: 1.16s\tremaining: 1.85s\n",
            "386:\tlearn: 0.4311852\ttotal: 1.17s\tremaining: 1.85s\n",
            "387:\tlearn: 0.4310994\ttotal: 1.17s\tremaining: 1.84s\n",
            "388:\tlearn: 0.4310396\ttotal: 1.17s\tremaining: 1.84s\n",
            "389:\tlearn: 0.4309942\ttotal: 1.18s\tremaining: 1.84s\n",
            "390:\tlearn: 0.4309414\ttotal: 1.18s\tremaining: 1.83s\n",
            "391:\tlearn: 0.4308710\ttotal: 1.18s\tremaining: 1.83s\n",
            "392:\tlearn: 0.4308024\ttotal: 1.18s\tremaining: 1.83s\n",
            "393:\tlearn: 0.4306716\ttotal: 1.19s\tremaining: 1.82s\n",
            "394:\tlearn: 0.4305509\ttotal: 1.19s\tremaining: 1.82s\n",
            "395:\tlearn: 0.4304797\ttotal: 1.19s\tremaining: 1.82s\n",
            "396:\tlearn: 0.4303855\ttotal: 1.19s\tremaining: 1.81s\n",
            "397:\tlearn: 0.4302637\ttotal: 1.2s\tremaining: 1.81s\n",
            "398:\tlearn: 0.4301640\ttotal: 1.2s\tremaining: 1.81s\n",
            "399:\tlearn: 0.4300870\ttotal: 1.2s\tremaining: 1.8s\n",
            "400:\tlearn: 0.4300460\ttotal: 1.21s\tremaining: 1.8s\n",
            "401:\tlearn: 0.4299342\ttotal: 1.21s\tremaining: 1.8s\n",
            "402:\tlearn: 0.4297994\ttotal: 1.21s\tremaining: 1.79s\n",
            "403:\tlearn: 0.4297004\ttotal: 1.21s\tremaining: 1.79s\n",
            "404:\tlearn: 0.4296064\ttotal: 1.22s\tremaining: 1.79s\n",
            "405:\tlearn: 0.4293903\ttotal: 1.22s\tremaining: 1.78s\n",
            "406:\tlearn: 0.4292545\ttotal: 1.22s\tremaining: 1.78s\n",
            "407:\tlearn: 0.4291303\ttotal: 1.22s\tremaining: 1.77s\n",
            "408:\tlearn: 0.4290810\ttotal: 1.23s\tremaining: 1.77s\n",
            "409:\tlearn: 0.4289805\ttotal: 1.23s\tremaining: 1.77s\n",
            "410:\tlearn: 0.4289043\ttotal: 1.23s\tremaining: 1.77s\n",
            "411:\tlearn: 0.4287750\ttotal: 1.24s\tremaining: 1.76s\n",
            "412:\tlearn: 0.4286890\ttotal: 1.24s\tremaining: 1.76s\n",
            "413:\tlearn: 0.4286118\ttotal: 1.24s\tremaining: 1.76s\n",
            "414:\tlearn: 0.4285223\ttotal: 1.24s\tremaining: 1.75s\n",
            "415:\tlearn: 0.4283764\ttotal: 1.25s\tremaining: 1.75s\n",
            "416:\tlearn: 0.4283101\ttotal: 1.25s\tremaining: 1.75s\n",
            "417:\tlearn: 0.4281916\ttotal: 1.25s\tremaining: 1.74s\n",
            "418:\tlearn: 0.4281630\ttotal: 1.25s\tremaining: 1.74s\n",
            "419:\tlearn: 0.4280756\ttotal: 1.26s\tremaining: 1.74s\n",
            "420:\tlearn: 0.4279982\ttotal: 1.26s\tremaining: 1.73s\n",
            "421:\tlearn: 0.4278718\ttotal: 1.26s\tremaining: 1.73s\n",
            "422:\tlearn: 0.4277692\ttotal: 1.26s\tremaining: 1.73s\n",
            "423:\tlearn: 0.4276726\ttotal: 1.27s\tremaining: 1.72s\n",
            "424:\tlearn: 0.4275971\ttotal: 1.27s\tremaining: 1.72s\n",
            "425:\tlearn: 0.4275520\ttotal: 1.27s\tremaining: 1.72s\n",
            "426:\tlearn: 0.4274341\ttotal: 1.28s\tremaining: 1.71s\n",
            "427:\tlearn: 0.4274192\ttotal: 1.28s\tremaining: 1.71s\n",
            "428:\tlearn: 0.4273354\ttotal: 1.28s\tremaining: 1.71s\n",
            "429:\tlearn: 0.4272502\ttotal: 1.28s\tremaining: 1.7s\n",
            "430:\tlearn: 0.4270901\ttotal: 1.29s\tremaining: 1.7s\n",
            "431:\tlearn: 0.4270013\ttotal: 1.29s\tremaining: 1.7s\n",
            "432:\tlearn: 0.4269447\ttotal: 1.29s\tremaining: 1.69s\n",
            "433:\tlearn: 0.4268825\ttotal: 1.29s\tremaining: 1.69s\n",
            "434:\tlearn: 0.4267829\ttotal: 1.3s\tremaining: 1.69s\n",
            "435:\tlearn: 0.4266967\ttotal: 1.3s\tremaining: 1.68s\n",
            "436:\tlearn: 0.4266237\ttotal: 1.3s\tremaining: 1.68s\n",
            "437:\tlearn: 0.4265248\ttotal: 1.31s\tremaining: 1.68s\n",
            "438:\tlearn: 0.4264280\ttotal: 1.31s\tremaining: 1.67s\n",
            "439:\tlearn: 0.4263659\ttotal: 1.31s\tremaining: 1.67s\n",
            "440:\tlearn: 0.4262938\ttotal: 1.31s\tremaining: 1.67s\n",
            "441:\tlearn: 0.4261936\ttotal: 1.32s\tremaining: 1.66s\n",
            "442:\tlearn: 0.4261192\ttotal: 1.32s\tremaining: 1.67s\n",
            "443:\tlearn: 0.4259620\ttotal: 1.33s\tremaining: 1.66s\n",
            "444:\tlearn: 0.4258394\ttotal: 1.33s\tremaining: 1.66s\n",
            "445:\tlearn: 0.4257864\ttotal: 1.34s\tremaining: 1.66s\n",
            "446:\tlearn: 0.4256321\ttotal: 1.34s\tremaining: 1.66s\n",
            "447:\tlearn: 0.4255571\ttotal: 1.34s\tremaining: 1.66s\n",
            "448:\tlearn: 0.4253921\ttotal: 1.35s\tremaining: 1.65s\n",
            "449:\tlearn: 0.4252956\ttotal: 1.35s\tremaining: 1.65s\n",
            "450:\tlearn: 0.4251650\ttotal: 1.36s\tremaining: 1.65s\n",
            "451:\tlearn: 0.4249979\ttotal: 1.36s\tremaining: 1.65s\n",
            "452:\tlearn: 0.4248933\ttotal: 1.36s\tremaining: 1.65s\n",
            "453:\tlearn: 0.4247989\ttotal: 1.37s\tremaining: 1.64s\n",
            "454:\tlearn: 0.4246624\ttotal: 1.37s\tremaining: 1.64s\n",
            "455:\tlearn: 0.4245673\ttotal: 1.37s\tremaining: 1.64s\n",
            "456:\tlearn: 0.4245329\ttotal: 1.38s\tremaining: 1.63s\n",
            "457:\tlearn: 0.4244401\ttotal: 1.38s\tremaining: 1.63s\n",
            "458:\tlearn: 0.4243561\ttotal: 1.38s\tremaining: 1.63s\n",
            "459:\tlearn: 0.4242812\ttotal: 1.38s\tremaining: 1.62s\n",
            "460:\tlearn: 0.4242183\ttotal: 1.39s\tremaining: 1.62s\n",
            "461:\tlearn: 0.4240493\ttotal: 1.39s\tremaining: 1.62s\n",
            "462:\tlearn: 0.4240026\ttotal: 1.39s\tremaining: 1.61s\n",
            "463:\tlearn: 0.4238986\ttotal: 1.39s\tremaining: 1.61s\n",
            "464:\tlearn: 0.4238281\ttotal: 1.4s\tremaining: 1.61s\n",
            "465:\tlearn: 0.4237102\ttotal: 1.4s\tremaining: 1.6s\n",
            "466:\tlearn: 0.4235732\ttotal: 1.4s\tremaining: 1.6s\n",
            "467:\tlearn: 0.4234418\ttotal: 1.41s\tremaining: 1.6s\n",
            "468:\tlearn: 0.4233858\ttotal: 1.41s\tremaining: 1.59s\n",
            "469:\tlearn: 0.4232986\ttotal: 1.41s\tremaining: 1.59s\n",
            "470:\tlearn: 0.4232505\ttotal: 1.41s\tremaining: 1.59s\n",
            "471:\tlearn: 0.4231853\ttotal: 1.42s\tremaining: 1.58s\n",
            "472:\tlearn: 0.4230648\ttotal: 1.42s\tremaining: 1.58s\n",
            "473:\tlearn: 0.4230151\ttotal: 1.42s\tremaining: 1.58s\n",
            "474:\tlearn: 0.4229506\ttotal: 1.43s\tremaining: 1.57s\n",
            "475:\tlearn: 0.4228355\ttotal: 1.43s\tremaining: 1.57s\n",
            "476:\tlearn: 0.4227590\ttotal: 1.43s\tremaining: 1.57s\n",
            "477:\tlearn: 0.4226388\ttotal: 1.43s\tremaining: 1.56s\n",
            "478:\tlearn: 0.4225763\ttotal: 1.44s\tremaining: 1.56s\n",
            "479:\tlearn: 0.4224089\ttotal: 1.44s\tremaining: 1.56s\n",
            "480:\tlearn: 0.4222700\ttotal: 1.44s\tremaining: 1.56s\n",
            "481:\tlearn: 0.4221726\ttotal: 1.44s\tremaining: 1.55s\n",
            "482:\tlearn: 0.4221126\ttotal: 1.45s\tremaining: 1.55s\n",
            "483:\tlearn: 0.4220205\ttotal: 1.45s\tremaining: 1.55s\n",
            "484:\tlearn: 0.4219147\ttotal: 1.45s\tremaining: 1.54s\n",
            "485:\tlearn: 0.4218082\ttotal: 1.46s\tremaining: 1.54s\n",
            "486:\tlearn: 0.4217430\ttotal: 1.46s\tremaining: 1.54s\n",
            "487:\tlearn: 0.4216216\ttotal: 1.46s\tremaining: 1.53s\n",
            "488:\tlearn: 0.4214897\ttotal: 1.46s\tremaining: 1.53s\n",
            "489:\tlearn: 0.4214340\ttotal: 1.47s\tremaining: 1.53s\n",
            "490:\tlearn: 0.4213582\ttotal: 1.47s\tremaining: 1.52s\n",
            "491:\tlearn: 0.4212282\ttotal: 1.47s\tremaining: 1.52s\n",
            "492:\tlearn: 0.4211112\ttotal: 1.48s\tremaining: 1.52s\n",
            "493:\tlearn: 0.4210046\ttotal: 1.48s\tremaining: 1.51s\n",
            "494:\tlearn: 0.4209061\ttotal: 1.48s\tremaining: 1.51s\n",
            "495:\tlearn: 0.4208226\ttotal: 1.48s\tremaining: 1.51s\n",
            "496:\tlearn: 0.4207751\ttotal: 1.49s\tremaining: 1.5s\n",
            "497:\tlearn: 0.4206873\ttotal: 1.49s\tremaining: 1.5s\n",
            "498:\tlearn: 0.4205846\ttotal: 1.49s\tremaining: 1.5s\n",
            "499:\tlearn: 0.4205101\ttotal: 1.49s\tremaining: 1.49s\n",
            "500:\tlearn: 0.4203471\ttotal: 1.5s\tremaining: 1.49s\n",
            "501:\tlearn: 0.4202924\ttotal: 1.5s\tremaining: 1.49s\n",
            "502:\tlearn: 0.4201689\ttotal: 1.5s\tremaining: 1.48s\n",
            "503:\tlearn: 0.4201080\ttotal: 1.5s\tremaining: 1.48s\n",
            "504:\tlearn: 0.4200935\ttotal: 1.51s\tremaining: 1.48s\n",
            "505:\tlearn: 0.4199449\ttotal: 1.51s\tremaining: 1.48s\n",
            "506:\tlearn: 0.4198432\ttotal: 1.51s\tremaining: 1.47s\n",
            "507:\tlearn: 0.4197593\ttotal: 1.52s\tremaining: 1.47s\n",
            "508:\tlearn: 0.4196847\ttotal: 1.52s\tremaining: 1.47s\n",
            "509:\tlearn: 0.4195876\ttotal: 1.52s\tremaining: 1.46s\n",
            "510:\tlearn: 0.4194665\ttotal: 1.52s\tremaining: 1.46s\n",
            "511:\tlearn: 0.4193074\ttotal: 1.53s\tremaining: 1.46s\n",
            "512:\tlearn: 0.4192290\ttotal: 1.53s\tremaining: 1.46s\n",
            "513:\tlearn: 0.4191555\ttotal: 1.54s\tremaining: 1.45s\n",
            "514:\tlearn: 0.4190867\ttotal: 1.54s\tremaining: 1.45s\n",
            "515:\tlearn: 0.4190004\ttotal: 1.54s\tremaining: 1.45s\n",
            "516:\tlearn: 0.4189182\ttotal: 1.54s\tremaining: 1.44s\n",
            "517:\tlearn: 0.4188526\ttotal: 1.55s\tremaining: 1.44s\n",
            "518:\tlearn: 0.4187398\ttotal: 1.55s\tremaining: 1.44s\n",
            "519:\tlearn: 0.4186838\ttotal: 1.55s\tremaining: 1.44s\n",
            "520:\tlearn: 0.4185644\ttotal: 1.56s\tremaining: 1.43s\n",
            "521:\tlearn: 0.4184421\ttotal: 1.56s\tremaining: 1.43s\n",
            "522:\tlearn: 0.4183485\ttotal: 1.56s\tremaining: 1.43s\n",
            "523:\tlearn: 0.4182498\ttotal: 1.57s\tremaining: 1.42s\n",
            "524:\tlearn: 0.4181426\ttotal: 1.57s\tremaining: 1.42s\n",
            "525:\tlearn: 0.4180398\ttotal: 1.57s\tremaining: 1.42s\n",
            "526:\tlearn: 0.4179899\ttotal: 1.57s\tremaining: 1.41s\n",
            "527:\tlearn: 0.4178438\ttotal: 1.58s\tremaining: 1.41s\n",
            "528:\tlearn: 0.4177233\ttotal: 1.58s\tremaining: 1.41s\n",
            "529:\tlearn: 0.4176029\ttotal: 1.58s\tremaining: 1.4s\n",
            "530:\tlearn: 0.4174911\ttotal: 1.58s\tremaining: 1.4s\n",
            "531:\tlearn: 0.4174134\ttotal: 1.59s\tremaining: 1.4s\n",
            "532:\tlearn: 0.4172966\ttotal: 1.59s\tremaining: 1.39s\n",
            "533:\tlearn: 0.4171998\ttotal: 1.59s\tremaining: 1.39s\n",
            "534:\tlearn: 0.4171404\ttotal: 1.6s\tremaining: 1.39s\n",
            "535:\tlearn: 0.4170495\ttotal: 1.6s\tremaining: 1.38s\n",
            "536:\tlearn: 0.4169923\ttotal: 1.6s\tremaining: 1.38s\n",
            "537:\tlearn: 0.4169140\ttotal: 1.6s\tremaining: 1.38s\n",
            "538:\tlearn: 0.4168638\ttotal: 1.61s\tremaining: 1.37s\n",
            "539:\tlearn: 0.4167074\ttotal: 1.61s\tremaining: 1.37s\n",
            "540:\tlearn: 0.4166512\ttotal: 1.61s\tremaining: 1.37s\n",
            "541:\tlearn: 0.4165547\ttotal: 1.61s\tremaining: 1.36s\n",
            "542:\tlearn: 0.4164395\ttotal: 1.62s\tremaining: 1.36s\n",
            "543:\tlearn: 0.4164067\ttotal: 1.62s\tremaining: 1.36s\n",
            "544:\tlearn: 0.4163198\ttotal: 1.62s\tremaining: 1.35s\n",
            "545:\tlearn: 0.4161722\ttotal: 1.63s\tremaining: 1.35s\n",
            "546:\tlearn: 0.4160064\ttotal: 1.63s\tremaining: 1.35s\n",
            "547:\tlearn: 0.4158636\ttotal: 1.63s\tremaining: 1.35s\n",
            "548:\tlearn: 0.4157814\ttotal: 1.63s\tremaining: 1.34s\n",
            "549:\tlearn: 0.4156667\ttotal: 1.64s\tremaining: 1.34s\n",
            "550:\tlearn: 0.4155667\ttotal: 1.64s\tremaining: 1.34s\n",
            "551:\tlearn: 0.4154934\ttotal: 1.64s\tremaining: 1.33s\n",
            "552:\tlearn: 0.4153020\ttotal: 1.65s\tremaining: 1.33s\n",
            "553:\tlearn: 0.4152159\ttotal: 1.65s\tremaining: 1.33s\n",
            "554:\tlearn: 0.4151632\ttotal: 1.65s\tremaining: 1.32s\n",
            "555:\tlearn: 0.4151265\ttotal: 1.65s\tremaining: 1.32s\n",
            "556:\tlearn: 0.4150719\ttotal: 1.66s\tremaining: 1.32s\n",
            "557:\tlearn: 0.4149471\ttotal: 1.66s\tremaining: 1.31s\n",
            "558:\tlearn: 0.4148405\ttotal: 1.66s\tremaining: 1.31s\n",
            "559:\tlearn: 0.4146680\ttotal: 1.66s\tremaining: 1.31s\n",
            "560:\tlearn: 0.4146320\ttotal: 1.67s\tremaining: 1.3s\n",
            "561:\tlearn: 0.4145563\ttotal: 1.67s\tremaining: 1.3s\n",
            "562:\tlearn: 0.4144502\ttotal: 1.67s\tremaining: 1.3s\n",
            "563:\tlearn: 0.4144142\ttotal: 1.68s\tremaining: 1.29s\n",
            "564:\tlearn: 0.4143270\ttotal: 1.68s\tremaining: 1.29s\n",
            "565:\tlearn: 0.4142666\ttotal: 1.68s\tremaining: 1.29s\n",
            "566:\tlearn: 0.4141895\ttotal: 1.68s\tremaining: 1.29s\n",
            "567:\tlearn: 0.4140604\ttotal: 1.69s\tremaining: 1.28s\n",
            "568:\tlearn: 0.4139376\ttotal: 1.69s\tremaining: 1.28s\n",
            "569:\tlearn: 0.4138682\ttotal: 1.7s\tremaining: 1.28s\n",
            "570:\tlearn: 0.4137836\ttotal: 1.7s\tremaining: 1.28s\n",
            "571:\tlearn: 0.4137124\ttotal: 1.7s\tremaining: 1.27s\n",
            "572:\tlearn: 0.4136092\ttotal: 1.71s\tremaining: 1.27s\n",
            "573:\tlearn: 0.4135588\ttotal: 1.71s\tremaining: 1.27s\n",
            "574:\tlearn: 0.4134391\ttotal: 1.71s\tremaining: 1.26s\n",
            "575:\tlearn: 0.4133782\ttotal: 1.71s\tremaining: 1.26s\n",
            "576:\tlearn: 0.4132628\ttotal: 1.72s\tremaining: 1.26s\n",
            "577:\tlearn: 0.4132486\ttotal: 1.72s\tremaining: 1.25s\n",
            "578:\tlearn: 0.4131675\ttotal: 1.72s\tremaining: 1.25s\n",
            "579:\tlearn: 0.4130756\ttotal: 1.72s\tremaining: 1.25s\n",
            "580:\tlearn: 0.4130221\ttotal: 1.73s\tremaining: 1.25s\n",
            "581:\tlearn: 0.4129741\ttotal: 1.73s\tremaining: 1.25s\n",
            "582:\tlearn: 0.4128213\ttotal: 1.74s\tremaining: 1.24s\n",
            "583:\tlearn: 0.4127073\ttotal: 1.74s\tremaining: 1.24s\n",
            "584:\tlearn: 0.4126461\ttotal: 1.74s\tremaining: 1.24s\n",
            "585:\tlearn: 0.4125473\ttotal: 1.75s\tremaining: 1.23s\n",
            "586:\tlearn: 0.4124925\ttotal: 1.75s\tremaining: 1.23s\n",
            "587:\tlearn: 0.4123556\ttotal: 1.75s\tremaining: 1.23s\n",
            "588:\tlearn: 0.4123136\ttotal: 1.75s\tremaining: 1.22s\n",
            "589:\tlearn: 0.4122563\ttotal: 1.76s\tremaining: 1.22s\n",
            "590:\tlearn: 0.4121530\ttotal: 1.76s\tremaining: 1.22s\n",
            "591:\tlearn: 0.4120669\ttotal: 1.76s\tremaining: 1.21s\n",
            "592:\tlearn: 0.4119755\ttotal: 1.76s\tremaining: 1.21s\n",
            "593:\tlearn: 0.4119282\ttotal: 1.77s\tremaining: 1.21s\n",
            "594:\tlearn: 0.4118114\ttotal: 1.77s\tremaining: 1.21s\n",
            "595:\tlearn: 0.4117454\ttotal: 1.77s\tremaining: 1.2s\n",
            "596:\tlearn: 0.4116866\ttotal: 1.78s\tremaining: 1.2s\n",
            "597:\tlearn: 0.4115602\ttotal: 1.78s\tremaining: 1.2s\n",
            "598:\tlearn: 0.4114401\ttotal: 1.78s\tremaining: 1.19s\n",
            "599:\tlearn: 0.4113201\ttotal: 1.78s\tremaining: 1.19s\n",
            "600:\tlearn: 0.4112182\ttotal: 1.79s\tremaining: 1.19s\n",
            "601:\tlearn: 0.4111811\ttotal: 1.79s\tremaining: 1.18s\n",
            "602:\tlearn: 0.4110798\ttotal: 1.79s\tremaining: 1.18s\n",
            "603:\tlearn: 0.4110005\ttotal: 1.79s\tremaining: 1.18s\n",
            "604:\tlearn: 0.4109378\ttotal: 1.8s\tremaining: 1.17s\n",
            "605:\tlearn: 0.4108301\ttotal: 1.8s\tremaining: 1.17s\n",
            "606:\tlearn: 0.4107437\ttotal: 1.8s\tremaining: 1.17s\n",
            "607:\tlearn: 0.4106562\ttotal: 1.81s\tremaining: 1.17s\n",
            "608:\tlearn: 0.4105481\ttotal: 1.81s\tremaining: 1.16s\n",
            "609:\tlearn: 0.4105047\ttotal: 1.81s\tremaining: 1.16s\n",
            "610:\tlearn: 0.4104828\ttotal: 1.81s\tremaining: 1.16s\n",
            "611:\tlearn: 0.4103782\ttotal: 1.82s\tremaining: 1.15s\n",
            "612:\tlearn: 0.4103398\ttotal: 1.82s\tremaining: 1.15s\n",
            "613:\tlearn: 0.4102848\ttotal: 1.82s\tremaining: 1.15s\n",
            "614:\tlearn: 0.4102223\ttotal: 1.83s\tremaining: 1.14s\n",
            "615:\tlearn: 0.4101101\ttotal: 1.83s\tremaining: 1.14s\n",
            "616:\tlearn: 0.4100811\ttotal: 1.83s\tremaining: 1.14s\n",
            "617:\tlearn: 0.4099845\ttotal: 1.83s\tremaining: 1.13s\n",
            "618:\tlearn: 0.4099257\ttotal: 1.84s\tremaining: 1.13s\n",
            "619:\tlearn: 0.4098467\ttotal: 1.84s\tremaining: 1.13s\n",
            "620:\tlearn: 0.4097932\ttotal: 1.84s\tremaining: 1.12s\n",
            "621:\tlearn: 0.4097035\ttotal: 1.84s\tremaining: 1.12s\n",
            "622:\tlearn: 0.4096142\ttotal: 1.85s\tremaining: 1.12s\n",
            "623:\tlearn: 0.4095150\ttotal: 1.85s\tremaining: 1.11s\n",
            "624:\tlearn: 0.4094729\ttotal: 1.85s\tremaining: 1.11s\n",
            "625:\tlearn: 0.4093984\ttotal: 1.86s\tremaining: 1.11s\n",
            "626:\tlearn: 0.4092828\ttotal: 1.86s\tremaining: 1.1s\n",
            "627:\tlearn: 0.4091972\ttotal: 1.86s\tremaining: 1.1s\n",
            "628:\tlearn: 0.4091474\ttotal: 1.86s\tremaining: 1.1s\n",
            "629:\tlearn: 0.4090947\ttotal: 1.87s\tremaining: 1.1s\n",
            "630:\tlearn: 0.4089934\ttotal: 1.87s\tremaining: 1.09s\n",
            "631:\tlearn: 0.4089617\ttotal: 1.87s\tremaining: 1.09s\n",
            "632:\tlearn: 0.4089000\ttotal: 1.88s\tremaining: 1.09s\n",
            "633:\tlearn: 0.4087902\ttotal: 1.88s\tremaining: 1.08s\n",
            "634:\tlearn: 0.4087047\ttotal: 1.88s\tremaining: 1.08s\n",
            "635:\tlearn: 0.4086631\ttotal: 1.88s\tremaining: 1.08s\n",
            "636:\tlearn: 0.4085482\ttotal: 1.89s\tremaining: 1.07s\n",
            "637:\tlearn: 0.4084500\ttotal: 1.89s\tremaining: 1.07s\n",
            "638:\tlearn: 0.4083055\ttotal: 1.89s\tremaining: 1.07s\n",
            "639:\tlearn: 0.4082574\ttotal: 1.9s\tremaining: 1.07s\n",
            "640:\tlearn: 0.4081432\ttotal: 1.9s\tremaining: 1.06s\n",
            "641:\tlearn: 0.4080208\ttotal: 1.9s\tremaining: 1.06s\n",
            "642:\tlearn: 0.4079100\ttotal: 1.9s\tremaining: 1.06s\n",
            "643:\tlearn: 0.4077587\ttotal: 1.91s\tremaining: 1.05s\n",
            "644:\tlearn: 0.4076615\ttotal: 1.91s\tremaining: 1.05s\n",
            "645:\tlearn: 0.4076212\ttotal: 1.91s\tremaining: 1.05s\n",
            "646:\tlearn: 0.4075129\ttotal: 1.92s\tremaining: 1.04s\n",
            "647:\tlearn: 0.4074174\ttotal: 1.92s\tremaining: 1.04s\n",
            "648:\tlearn: 0.4073768\ttotal: 1.92s\tremaining: 1.04s\n",
            "649:\tlearn: 0.4073015\ttotal: 1.93s\tremaining: 1.04s\n",
            "650:\tlearn: 0.4072374\ttotal: 1.93s\tremaining: 1.03s\n",
            "651:\tlearn: 0.4071533\ttotal: 1.93s\tremaining: 1.03s\n",
            "652:\tlearn: 0.4070975\ttotal: 1.94s\tremaining: 1.03s\n",
            "653:\tlearn: 0.4070913\ttotal: 1.94s\tremaining: 1.03s\n",
            "654:\tlearn: 0.4069995\ttotal: 1.95s\tremaining: 1.03s\n",
            "655:\tlearn: 0.4068913\ttotal: 1.95s\tremaining: 1.02s\n",
            "656:\tlearn: 0.4067944\ttotal: 1.96s\tremaining: 1.02s\n",
            "657:\tlearn: 0.4067573\ttotal: 1.97s\tremaining: 1.02s\n",
            "658:\tlearn: 0.4066570\ttotal: 1.97s\tremaining: 1.02s\n",
            "659:\tlearn: 0.4065433\ttotal: 1.98s\tremaining: 1.02s\n",
            "660:\tlearn: 0.4064567\ttotal: 1.99s\tremaining: 1.02s\n",
            "661:\tlearn: 0.4063813\ttotal: 1.99s\tremaining: 1.01s\n",
            "662:\tlearn: 0.4062935\ttotal: 1.99s\tremaining: 1.01s\n",
            "663:\tlearn: 0.4062020\ttotal: 1.99s\tremaining: 1.01s\n",
            "664:\tlearn: 0.4060667\ttotal: 2s\tremaining: 1s\n",
            "665:\tlearn: 0.4060456\ttotal: 2s\tremaining: 1s\n",
            "666:\tlearn: 0.4059821\ttotal: 2s\tremaining: 1s\n",
            "667:\tlearn: 0.4058910\ttotal: 2.01s\tremaining: 998ms\n",
            "668:\tlearn: 0.4058153\ttotal: 2.01s\tremaining: 996ms\n",
            "669:\tlearn: 0.4057756\ttotal: 2.02s\tremaining: 993ms\n",
            "670:\tlearn: 0.4057425\ttotal: 2.02s\tremaining: 990ms\n",
            "671:\tlearn: 0.4056580\ttotal: 2.02s\tremaining: 987ms\n",
            "672:\tlearn: 0.4055535\ttotal: 2.02s\tremaining: 984ms\n",
            "673:\tlearn: 0.4054687\ttotal: 2.03s\tremaining: 981ms\n",
            "674:\tlearn: 0.4053330\ttotal: 2.03s\tremaining: 978ms\n",
            "675:\tlearn: 0.4051897\ttotal: 2.03s\tremaining: 975ms\n",
            "676:\tlearn: 0.4050757\ttotal: 2.04s\tremaining: 972ms\n",
            "677:\tlearn: 0.4049811\ttotal: 2.04s\tremaining: 969ms\n",
            "678:\tlearn: 0.4049377\ttotal: 2.04s\tremaining: 965ms\n",
            "679:\tlearn: 0.4048648\ttotal: 2.04s\tremaining: 962ms\n",
            "680:\tlearn: 0.4048175\ttotal: 2.05s\tremaining: 959ms\n",
            "681:\tlearn: 0.4046908\ttotal: 2.05s\tremaining: 956ms\n",
            "682:\tlearn: 0.4045980\ttotal: 2.05s\tremaining: 953ms\n",
            "683:\tlearn: 0.4045652\ttotal: 2.06s\tremaining: 950ms\n",
            "684:\tlearn: 0.4043950\ttotal: 2.06s\tremaining: 947ms\n",
            "685:\tlearn: 0.4042586\ttotal: 2.06s\tremaining: 944ms\n",
            "686:\tlearn: 0.4041576\ttotal: 2.06s\tremaining: 941ms\n",
            "687:\tlearn: 0.4041040\ttotal: 2.07s\tremaining: 938ms\n",
            "688:\tlearn: 0.4039684\ttotal: 2.07s\tremaining: 935ms\n",
            "689:\tlearn: 0.4038927\ttotal: 2.07s\tremaining: 931ms\n",
            "690:\tlearn: 0.4038025\ttotal: 2.08s\tremaining: 928ms\n",
            "691:\tlearn: 0.4037412\ttotal: 2.08s\tremaining: 925ms\n",
            "692:\tlearn: 0.4036465\ttotal: 2.08s\tremaining: 922ms\n",
            "693:\tlearn: 0.4035715\ttotal: 2.08s\tremaining: 919ms\n",
            "694:\tlearn: 0.4035186\ttotal: 2.09s\tremaining: 916ms\n",
            "695:\tlearn: 0.4034705\ttotal: 2.09s\tremaining: 913ms\n",
            "696:\tlearn: 0.4033744\ttotal: 2.09s\tremaining: 910ms\n",
            "697:\tlearn: 0.4032902\ttotal: 2.1s\tremaining: 907ms\n",
            "698:\tlearn: 0.4032410\ttotal: 2.1s\tremaining: 904ms\n",
            "699:\tlearn: 0.4031467\ttotal: 2.1s\tremaining: 900ms\n",
            "700:\tlearn: 0.4030350\ttotal: 2.1s\tremaining: 897ms\n",
            "701:\tlearn: 0.4029178\ttotal: 2.11s\tremaining: 895ms\n",
            "702:\tlearn: 0.4028710\ttotal: 2.11s\tremaining: 891ms\n",
            "703:\tlearn: 0.4028616\ttotal: 2.11s\tremaining: 888ms\n",
            "704:\tlearn: 0.4027759\ttotal: 2.12s\tremaining: 886ms\n",
            "705:\tlearn: 0.4026824\ttotal: 2.12s\tremaining: 884ms\n",
            "706:\tlearn: 0.4026093\ttotal: 2.13s\tremaining: 881ms\n",
            "707:\tlearn: 0.4025059\ttotal: 2.13s\tremaining: 878ms\n",
            "708:\tlearn: 0.4024500\ttotal: 2.13s\tremaining: 875ms\n",
            "709:\tlearn: 0.4023771\ttotal: 2.13s\tremaining: 872ms\n",
            "710:\tlearn: 0.4023225\ttotal: 2.14s\tremaining: 868ms\n",
            "711:\tlearn: 0.4022349\ttotal: 2.14s\tremaining: 865ms\n",
            "712:\tlearn: 0.4021645\ttotal: 2.14s\tremaining: 862ms\n",
            "713:\tlearn: 0.4021022\ttotal: 2.15s\tremaining: 859ms\n",
            "714:\tlearn: 0.4020252\ttotal: 2.15s\tremaining: 856ms\n",
            "715:\tlearn: 0.4019004\ttotal: 2.15s\tremaining: 853ms\n",
            "716:\tlearn: 0.4018293\ttotal: 2.15s\tremaining: 850ms\n",
            "717:\tlearn: 0.4017850\ttotal: 2.16s\tremaining: 847ms\n",
            "718:\tlearn: 0.4016604\ttotal: 2.16s\tremaining: 844ms\n",
            "719:\tlearn: 0.4015266\ttotal: 2.16s\tremaining: 841ms\n",
            "720:\tlearn: 0.4014866\ttotal: 2.16s\tremaining: 838ms\n",
            "721:\tlearn: 0.4014153\ttotal: 2.17s\tremaining: 834ms\n",
            "722:\tlearn: 0.4013224\ttotal: 2.17s\tremaining: 831ms\n",
            "723:\tlearn: 0.4012930\ttotal: 2.17s\tremaining: 828ms\n",
            "724:\tlearn: 0.4011740\ttotal: 2.17s\tremaining: 825ms\n",
            "725:\tlearn: 0.4010693\ttotal: 2.18s\tremaining: 822ms\n",
            "726:\tlearn: 0.4009747\ttotal: 2.18s\tremaining: 819ms\n",
            "727:\tlearn: 0.4008876\ttotal: 2.18s\tremaining: 816ms\n",
            "728:\tlearn: 0.4007908\ttotal: 2.19s\tremaining: 813ms\n",
            "729:\tlearn: 0.4006217\ttotal: 2.19s\tremaining: 810ms\n",
            "730:\tlearn: 0.4005815\ttotal: 2.19s\tremaining: 807ms\n",
            "731:\tlearn: 0.4005049\ttotal: 2.19s\tremaining: 804ms\n",
            "732:\tlearn: 0.4004095\ttotal: 2.2s\tremaining: 800ms\n",
            "733:\tlearn: 0.4003283\ttotal: 2.2s\tremaining: 797ms\n",
            "734:\tlearn: 0.4002534\ttotal: 2.2s\tremaining: 794ms\n",
            "735:\tlearn: 0.4001098\ttotal: 2.21s\tremaining: 791ms\n",
            "736:\tlearn: 0.4000318\ttotal: 2.21s\tremaining: 788ms\n",
            "737:\tlearn: 0.3999352\ttotal: 2.21s\tremaining: 785ms\n",
            "738:\tlearn: 0.3998967\ttotal: 2.21s\tremaining: 782ms\n",
            "739:\tlearn: 0.3998391\ttotal: 2.22s\tremaining: 779ms\n",
            "740:\tlearn: 0.3997272\ttotal: 2.22s\tremaining: 776ms\n",
            "741:\tlearn: 0.3996237\ttotal: 2.22s\tremaining: 773ms\n",
            "742:\tlearn: 0.3995703\ttotal: 2.23s\tremaining: 770ms\n",
            "743:\tlearn: 0.3995330\ttotal: 2.23s\tremaining: 767ms\n",
            "744:\tlearn: 0.3994813\ttotal: 2.23s\tremaining: 764ms\n",
            "745:\tlearn: 0.3994531\ttotal: 2.23s\tremaining: 761ms\n",
            "746:\tlearn: 0.3993262\ttotal: 2.24s\tremaining: 758ms\n",
            "747:\tlearn: 0.3992359\ttotal: 2.24s\tremaining: 755ms\n",
            "748:\tlearn: 0.3991634\ttotal: 2.24s\tremaining: 752ms\n",
            "749:\tlearn: 0.3990560\ttotal: 2.25s\tremaining: 748ms\n",
            "750:\tlearn: 0.3990228\ttotal: 2.25s\tremaining: 745ms\n",
            "751:\tlearn: 0.3988723\ttotal: 2.25s\tremaining: 742ms\n",
            "752:\tlearn: 0.3988300\ttotal: 2.25s\tremaining: 739ms\n",
            "753:\tlearn: 0.3987848\ttotal: 2.26s\tremaining: 736ms\n",
            "754:\tlearn: 0.3985934\ttotal: 2.26s\tremaining: 733ms\n",
            "755:\tlearn: 0.3985019\ttotal: 2.26s\tremaining: 730ms\n",
            "756:\tlearn: 0.3984346\ttotal: 2.27s\tremaining: 727ms\n",
            "757:\tlearn: 0.3983528\ttotal: 2.27s\tremaining: 724ms\n",
            "758:\tlearn: 0.3983185\ttotal: 2.27s\tremaining: 721ms\n",
            "759:\tlearn: 0.3982233\ttotal: 2.27s\tremaining: 718ms\n",
            "760:\tlearn: 0.3981864\ttotal: 2.28s\tremaining: 715ms\n",
            "761:\tlearn: 0.3981407\ttotal: 2.28s\tremaining: 712ms\n",
            "762:\tlearn: 0.3980320\ttotal: 2.28s\tremaining: 709ms\n",
            "763:\tlearn: 0.3979852\ttotal: 2.28s\tremaining: 706ms\n",
            "764:\tlearn: 0.3978773\ttotal: 2.29s\tremaining: 703ms\n",
            "765:\tlearn: 0.3978316\ttotal: 2.29s\tremaining: 700ms\n",
            "766:\tlearn: 0.3977112\ttotal: 2.29s\tremaining: 697ms\n",
            "767:\tlearn: 0.3976690\ttotal: 2.29s\tremaining: 694ms\n",
            "768:\tlearn: 0.3975884\ttotal: 2.3s\tremaining: 690ms\n",
            "769:\tlearn: 0.3974916\ttotal: 2.3s\tremaining: 687ms\n",
            "770:\tlearn: 0.3973623\ttotal: 2.31s\tremaining: 685ms\n",
            "771:\tlearn: 0.3973003\ttotal: 2.31s\tremaining: 682ms\n",
            "772:\tlearn: 0.3972281\ttotal: 2.31s\tremaining: 679ms\n",
            "773:\tlearn: 0.3971382\ttotal: 2.32s\tremaining: 676ms\n",
            "774:\tlearn: 0.3970627\ttotal: 2.32s\tremaining: 673ms\n",
            "775:\tlearn: 0.3969062\ttotal: 2.32s\tremaining: 671ms\n",
            "776:\tlearn: 0.3968356\ttotal: 2.33s\tremaining: 668ms\n",
            "777:\tlearn: 0.3967983\ttotal: 2.33s\tremaining: 665ms\n",
            "778:\tlearn: 0.3967294\ttotal: 2.33s\tremaining: 662ms\n",
            "779:\tlearn: 0.3966723\ttotal: 2.34s\tremaining: 659ms\n",
            "780:\tlearn: 0.3966032\ttotal: 2.34s\tremaining: 657ms\n",
            "781:\tlearn: 0.3965325\ttotal: 2.34s\tremaining: 653ms\n",
            "782:\tlearn: 0.3964293\ttotal: 2.35s\tremaining: 650ms\n",
            "783:\tlearn: 0.3963258\ttotal: 2.35s\tremaining: 647ms\n",
            "784:\tlearn: 0.3962601\ttotal: 2.35s\tremaining: 644ms\n",
            "785:\tlearn: 0.3962457\ttotal: 2.35s\tremaining: 641ms\n",
            "786:\tlearn: 0.3961524\ttotal: 2.36s\tremaining: 638ms\n",
            "787:\tlearn: 0.3960683\ttotal: 2.36s\tremaining: 635ms\n",
            "788:\tlearn: 0.3959439\ttotal: 2.36s\tremaining: 632ms\n",
            "789:\tlearn: 0.3959255\ttotal: 2.37s\tremaining: 629ms\n",
            "790:\tlearn: 0.3958510\ttotal: 2.37s\tremaining: 626ms\n",
            "791:\tlearn: 0.3958132\ttotal: 2.37s\tremaining: 623ms\n",
            "792:\tlearn: 0.3957162\ttotal: 2.38s\tremaining: 620ms\n",
            "793:\tlearn: 0.3956482\ttotal: 2.38s\tremaining: 617ms\n",
            "794:\tlearn: 0.3955799\ttotal: 2.38s\tremaining: 614ms\n",
            "795:\tlearn: 0.3954951\ttotal: 2.38s\tremaining: 611ms\n",
            "796:\tlearn: 0.3954733\ttotal: 2.39s\tremaining: 608ms\n",
            "797:\tlearn: 0.3953548\ttotal: 2.39s\tremaining: 605ms\n",
            "798:\tlearn: 0.3952309\ttotal: 2.39s\tremaining: 602ms\n",
            "799:\tlearn: 0.3951471\ttotal: 2.4s\tremaining: 599ms\n",
            "800:\tlearn: 0.3950591\ttotal: 2.4s\tremaining: 596ms\n",
            "801:\tlearn: 0.3950332\ttotal: 2.4s\tremaining: 593ms\n",
            "802:\tlearn: 0.3949963\ttotal: 2.41s\tremaining: 590ms\n",
            "803:\tlearn: 0.3948978\ttotal: 2.41s\tremaining: 587ms\n",
            "804:\tlearn: 0.3948576\ttotal: 2.41s\tremaining: 584ms\n",
            "805:\tlearn: 0.3948026\ttotal: 2.41s\tremaining: 581ms\n",
            "806:\tlearn: 0.3947313\ttotal: 2.42s\tremaining: 578ms\n",
            "807:\tlearn: 0.3946392\ttotal: 2.42s\tremaining: 575ms\n",
            "808:\tlearn: 0.3945472\ttotal: 2.42s\tremaining: 572ms\n",
            "809:\tlearn: 0.3944811\ttotal: 2.43s\tremaining: 569ms\n",
            "810:\tlearn: 0.3944104\ttotal: 2.43s\tremaining: 566ms\n",
            "811:\tlearn: 0.3943517\ttotal: 2.43s\tremaining: 563ms\n",
            "812:\tlearn: 0.3942834\ttotal: 2.43s\tremaining: 560ms\n",
            "813:\tlearn: 0.3941617\ttotal: 2.44s\tremaining: 557ms\n",
            "814:\tlearn: 0.3940734\ttotal: 2.44s\tremaining: 554ms\n",
            "815:\tlearn: 0.3940519\ttotal: 2.44s\tremaining: 551ms\n",
            "816:\tlearn: 0.3940378\ttotal: 2.45s\tremaining: 548ms\n",
            "817:\tlearn: 0.3939449\ttotal: 2.45s\tremaining: 545ms\n",
            "818:\tlearn: 0.3938685\ttotal: 2.45s\tremaining: 542ms\n",
            "819:\tlearn: 0.3938249\ttotal: 2.45s\tremaining: 539ms\n",
            "820:\tlearn: 0.3937171\ttotal: 2.46s\tremaining: 536ms\n",
            "821:\tlearn: 0.3936269\ttotal: 2.46s\tremaining: 533ms\n",
            "822:\tlearn: 0.3935358\ttotal: 2.46s\tremaining: 530ms\n",
            "823:\tlearn: 0.3934785\ttotal: 2.46s\tremaining: 527ms\n",
            "824:\tlearn: 0.3934127\ttotal: 2.47s\tremaining: 524ms\n",
            "825:\tlearn: 0.3932998\ttotal: 2.47s\tremaining: 521ms\n",
            "826:\tlearn: 0.3931861\ttotal: 2.47s\tremaining: 518ms\n",
            "827:\tlearn: 0.3931388\ttotal: 2.48s\tremaining: 515ms\n",
            "828:\tlearn: 0.3930531\ttotal: 2.48s\tremaining: 511ms\n",
            "829:\tlearn: 0.3929529\ttotal: 2.48s\tremaining: 508ms\n",
            "830:\tlearn: 0.3929261\ttotal: 2.48s\tremaining: 505ms\n",
            "831:\tlearn: 0.3928876\ttotal: 2.49s\tremaining: 502ms\n",
            "832:\tlearn: 0.3928069\ttotal: 2.49s\tremaining: 499ms\n",
            "833:\tlearn: 0.3927235\ttotal: 2.49s\tremaining: 496ms\n",
            "834:\tlearn: 0.3926402\ttotal: 2.5s\tremaining: 493ms\n",
            "835:\tlearn: 0.3926014\ttotal: 2.5s\tremaining: 491ms\n",
            "836:\tlearn: 0.3925057\ttotal: 2.5s\tremaining: 488ms\n",
            "837:\tlearn: 0.3923990\ttotal: 2.51s\tremaining: 485ms\n",
            "838:\tlearn: 0.3923562\ttotal: 2.51s\tremaining: 482ms\n",
            "839:\tlearn: 0.3922902\ttotal: 2.51s\tremaining: 479ms\n",
            "840:\tlearn: 0.3921876\ttotal: 2.52s\tremaining: 476ms\n",
            "841:\tlearn: 0.3921111\ttotal: 2.52s\tremaining: 473ms\n",
            "842:\tlearn: 0.3920540\ttotal: 2.52s\tremaining: 470ms\n",
            "843:\tlearn: 0.3919717\ttotal: 2.52s\tremaining: 467ms\n",
            "844:\tlearn: 0.3919081\ttotal: 2.53s\tremaining: 464ms\n",
            "845:\tlearn: 0.3918548\ttotal: 2.53s\tremaining: 461ms\n",
            "846:\tlearn: 0.3917703\ttotal: 2.53s\tremaining: 458ms\n",
            "847:\tlearn: 0.3917271\ttotal: 2.54s\tremaining: 455ms\n",
            "848:\tlearn: 0.3916103\ttotal: 2.54s\tremaining: 452ms\n",
            "849:\tlearn: 0.3915415\ttotal: 2.54s\tremaining: 449ms\n",
            "850:\tlearn: 0.3914680\ttotal: 2.54s\tremaining: 446ms\n",
            "851:\tlearn: 0.3913905\ttotal: 2.55s\tremaining: 443ms\n",
            "852:\tlearn: 0.3913249\ttotal: 2.55s\tremaining: 440ms\n",
            "853:\tlearn: 0.3912559\ttotal: 2.55s\tremaining: 437ms\n",
            "854:\tlearn: 0.3911624\ttotal: 2.56s\tremaining: 434ms\n",
            "855:\tlearn: 0.3911169\ttotal: 2.56s\tremaining: 430ms\n",
            "856:\tlearn: 0.3910449\ttotal: 2.56s\tremaining: 427ms\n",
            "857:\tlearn: 0.3909900\ttotal: 2.56s\tremaining: 424ms\n",
            "858:\tlearn: 0.3909115\ttotal: 2.57s\tremaining: 421ms\n",
            "859:\tlearn: 0.3908278\ttotal: 2.57s\tremaining: 418ms\n",
            "860:\tlearn: 0.3907108\ttotal: 2.57s\tremaining: 415ms\n",
            "861:\tlearn: 0.3906817\ttotal: 2.58s\tremaining: 412ms\n",
            "862:\tlearn: 0.3905956\ttotal: 2.58s\tremaining: 409ms\n",
            "863:\tlearn: 0.3905298\ttotal: 2.58s\tremaining: 406ms\n",
            "864:\tlearn: 0.3904351\ttotal: 2.58s\tremaining: 403ms\n",
            "865:\tlearn: 0.3903484\ttotal: 2.59s\tremaining: 400ms\n",
            "866:\tlearn: 0.3902625\ttotal: 2.59s\tremaining: 397ms\n",
            "867:\tlearn: 0.3901479\ttotal: 2.59s\tremaining: 394ms\n",
            "868:\tlearn: 0.3900389\ttotal: 2.6s\tremaining: 391ms\n",
            "869:\tlearn: 0.3900350\ttotal: 2.6s\tremaining: 388ms\n",
            "870:\tlearn: 0.3899461\ttotal: 2.6s\tremaining: 385ms\n",
            "871:\tlearn: 0.3898811\ttotal: 2.6s\tremaining: 382ms\n",
            "872:\tlearn: 0.3897950\ttotal: 2.61s\tremaining: 379ms\n",
            "873:\tlearn: 0.3897064\ttotal: 2.61s\tremaining: 376ms\n",
            "874:\tlearn: 0.3896674\ttotal: 2.61s\tremaining: 373ms\n",
            "875:\tlearn: 0.3896125\ttotal: 2.62s\tremaining: 370ms\n",
            "876:\tlearn: 0.3895377\ttotal: 2.62s\tremaining: 367ms\n",
            "877:\tlearn: 0.3894214\ttotal: 2.62s\tremaining: 364ms\n",
            "878:\tlearn: 0.3893357\ttotal: 2.62s\tremaining: 361ms\n",
            "879:\tlearn: 0.3892488\ttotal: 2.63s\tremaining: 358ms\n",
            "880:\tlearn: 0.3891913\ttotal: 2.63s\tremaining: 355ms\n",
            "881:\tlearn: 0.3891163\ttotal: 2.63s\tremaining: 352ms\n",
            "882:\tlearn: 0.3890497\ttotal: 2.64s\tremaining: 349ms\n",
            "883:\tlearn: 0.3889395\ttotal: 2.64s\tremaining: 346ms\n",
            "884:\tlearn: 0.3888743\ttotal: 2.64s\tremaining: 343ms\n",
            "885:\tlearn: 0.3887756\ttotal: 2.64s\tremaining: 340ms\n",
            "886:\tlearn: 0.3887319\ttotal: 2.65s\tremaining: 337ms\n",
            "887:\tlearn: 0.3886369\ttotal: 2.65s\tremaining: 334ms\n",
            "888:\tlearn: 0.3884887\ttotal: 2.65s\tremaining: 331ms\n",
            "889:\tlearn: 0.3883919\ttotal: 2.66s\tremaining: 328ms\n",
            "890:\tlearn: 0.3883132\ttotal: 2.66s\tremaining: 325ms\n",
            "891:\tlearn: 0.3882283\ttotal: 2.66s\tremaining: 322ms\n",
            "892:\tlearn: 0.3881551\ttotal: 2.66s\tremaining: 319ms\n",
            "893:\tlearn: 0.3881425\ttotal: 2.67s\tremaining: 316ms\n",
            "894:\tlearn: 0.3880583\ttotal: 2.67s\tremaining: 313ms\n",
            "895:\tlearn: 0.3879820\ttotal: 2.67s\tremaining: 310ms\n",
            "896:\tlearn: 0.3879080\ttotal: 2.67s\tremaining: 307ms\n",
            "897:\tlearn: 0.3878664\ttotal: 2.68s\tremaining: 304ms\n",
            "898:\tlearn: 0.3878011\ttotal: 2.68s\tremaining: 301ms\n",
            "899:\tlearn: 0.3877349\ttotal: 2.68s\tremaining: 298ms\n",
            "900:\tlearn: 0.3876928\ttotal: 2.69s\tremaining: 295ms\n",
            "901:\tlearn: 0.3875163\ttotal: 2.69s\tremaining: 292ms\n",
            "902:\tlearn: 0.3874210\ttotal: 2.7s\tremaining: 290ms\n",
            "903:\tlearn: 0.3873649\ttotal: 2.7s\tremaining: 287ms\n",
            "904:\tlearn: 0.3873486\ttotal: 2.71s\tremaining: 284ms\n",
            "905:\tlearn: 0.3872622\ttotal: 2.71s\tremaining: 281ms\n",
            "906:\tlearn: 0.3871924\ttotal: 2.71s\tremaining: 278ms\n",
            "907:\tlearn: 0.3871130\ttotal: 2.71s\tremaining: 275ms\n",
            "908:\tlearn: 0.3870504\ttotal: 2.72s\tremaining: 272ms\n",
            "909:\tlearn: 0.3870266\ttotal: 2.72s\tremaining: 269ms\n",
            "910:\tlearn: 0.3869764\ttotal: 2.72s\tremaining: 266ms\n",
            "911:\tlearn: 0.3869477\ttotal: 2.73s\tremaining: 263ms\n",
            "912:\tlearn: 0.3868792\ttotal: 2.73s\tremaining: 260ms\n",
            "913:\tlearn: 0.3868223\ttotal: 2.73s\tremaining: 257ms\n",
            "914:\tlearn: 0.3867852\ttotal: 2.73s\tremaining: 254ms\n",
            "915:\tlearn: 0.3866618\ttotal: 2.74s\tremaining: 251ms\n",
            "916:\tlearn: 0.3865756\ttotal: 2.74s\tremaining: 248ms\n",
            "917:\tlearn: 0.3865047\ttotal: 2.74s\tremaining: 245ms\n",
            "918:\tlearn: 0.3864085\ttotal: 2.74s\tremaining: 242ms\n",
            "919:\tlearn: 0.3863036\ttotal: 2.75s\tremaining: 239ms\n",
            "920:\tlearn: 0.3862147\ttotal: 2.75s\tremaining: 236ms\n",
            "921:\tlearn: 0.3861443\ttotal: 2.75s\tremaining: 233ms\n",
            "922:\tlearn: 0.3860849\ttotal: 2.75s\tremaining: 230ms\n",
            "923:\tlearn: 0.3859928\ttotal: 2.76s\tremaining: 227ms\n",
            "924:\tlearn: 0.3859132\ttotal: 2.76s\tremaining: 224ms\n",
            "925:\tlearn: 0.3858469\ttotal: 2.76s\tremaining: 221ms\n",
            "926:\tlearn: 0.3858116\ttotal: 2.77s\tremaining: 218ms\n",
            "927:\tlearn: 0.3857383\ttotal: 2.77s\tremaining: 215ms\n",
            "928:\tlearn: 0.3856563\ttotal: 2.77s\tremaining: 212ms\n",
            "929:\tlearn: 0.3855698\ttotal: 2.77s\tremaining: 209ms\n",
            "930:\tlearn: 0.3854622\ttotal: 2.78s\tremaining: 206ms\n",
            "931:\tlearn: 0.3854050\ttotal: 2.78s\tremaining: 203ms\n",
            "932:\tlearn: 0.3852901\ttotal: 2.78s\tremaining: 200ms\n",
            "933:\tlearn: 0.3852226\ttotal: 2.79s\tremaining: 197ms\n",
            "934:\tlearn: 0.3851914\ttotal: 2.79s\tremaining: 194ms\n",
            "935:\tlearn: 0.3851013\ttotal: 2.79s\tremaining: 191ms\n",
            "936:\tlearn: 0.3849906\ttotal: 2.79s\tremaining: 188ms\n",
            "937:\tlearn: 0.3848728\ttotal: 2.8s\tremaining: 185ms\n",
            "938:\tlearn: 0.3848684\ttotal: 2.8s\tremaining: 182ms\n",
            "939:\tlearn: 0.3847640\ttotal: 2.8s\tremaining: 179ms\n",
            "940:\tlearn: 0.3847383\ttotal: 2.81s\tremaining: 176ms\n",
            "941:\tlearn: 0.3847020\ttotal: 2.81s\tremaining: 173ms\n",
            "942:\tlearn: 0.3846328\ttotal: 2.81s\tremaining: 170ms\n",
            "943:\tlearn: 0.3845652\ttotal: 2.81s\tremaining: 167ms\n",
            "944:\tlearn: 0.3844700\ttotal: 2.82s\tremaining: 164ms\n",
            "945:\tlearn: 0.3844456\ttotal: 2.82s\tremaining: 161ms\n",
            "946:\tlearn: 0.3844203\ttotal: 2.82s\tremaining: 158ms\n",
            "947:\tlearn: 0.3843256\ttotal: 2.83s\tremaining: 155ms\n",
            "948:\tlearn: 0.3843075\ttotal: 2.83s\tremaining: 152ms\n",
            "949:\tlearn: 0.3842669\ttotal: 2.83s\tremaining: 149ms\n",
            "950:\tlearn: 0.3841575\ttotal: 2.83s\tremaining: 146ms\n",
            "951:\tlearn: 0.3840602\ttotal: 2.84s\tremaining: 143ms\n",
            "952:\tlearn: 0.3839593\ttotal: 2.84s\tremaining: 140ms\n",
            "953:\tlearn: 0.3838802\ttotal: 2.84s\tremaining: 137ms\n",
            "954:\tlearn: 0.3837806\ttotal: 2.85s\tremaining: 134ms\n",
            "955:\tlearn: 0.3837099\ttotal: 2.85s\tremaining: 131ms\n",
            "956:\tlearn: 0.3836109\ttotal: 2.85s\tremaining: 128ms\n",
            "957:\tlearn: 0.3835437\ttotal: 2.85s\tremaining: 125ms\n",
            "958:\tlearn: 0.3834772\ttotal: 2.86s\tremaining: 122ms\n",
            "959:\tlearn: 0.3834223\ttotal: 2.86s\tremaining: 119ms\n",
            "960:\tlearn: 0.3833209\ttotal: 2.86s\tremaining: 116ms\n",
            "961:\tlearn: 0.3831970\ttotal: 2.87s\tremaining: 113ms\n",
            "962:\tlearn: 0.3831161\ttotal: 2.87s\tremaining: 110ms\n",
            "963:\tlearn: 0.3830764\ttotal: 2.87s\tremaining: 107ms\n",
            "964:\tlearn: 0.3829804\ttotal: 2.87s\tremaining: 104ms\n",
            "965:\tlearn: 0.3829323\ttotal: 2.88s\tremaining: 101ms\n",
            "966:\tlearn: 0.3828668\ttotal: 2.88s\tremaining: 98.3ms\n",
            "967:\tlearn: 0.3828622\ttotal: 2.88s\tremaining: 95.3ms\n",
            "968:\tlearn: 0.3828120\ttotal: 2.88s\tremaining: 92.3ms\n",
            "969:\tlearn: 0.3827204\ttotal: 2.89s\tremaining: 89.3ms\n",
            "970:\tlearn: 0.3826811\ttotal: 2.9s\tremaining: 86.6ms\n",
            "971:\tlearn: 0.3826222\ttotal: 2.9s\tremaining: 83.6ms\n",
            "972:\tlearn: 0.3824635\ttotal: 2.9s\tremaining: 80.6ms\n",
            "973:\tlearn: 0.3823841\ttotal: 2.91s\tremaining: 77.6ms\n",
            "974:\tlearn: 0.3823524\ttotal: 2.91s\tremaining: 74.6ms\n",
            "975:\tlearn: 0.3822641\ttotal: 2.91s\tremaining: 71.6ms\n",
            "976:\tlearn: 0.3821599\ttotal: 2.91s\tremaining: 68.6ms\n",
            "977:\tlearn: 0.3820684\ttotal: 2.92s\tremaining: 65.6ms\n",
            "978:\tlearn: 0.3819680\ttotal: 2.92s\tremaining: 62.6ms\n",
            "979:\tlearn: 0.3818868\ttotal: 2.92s\tremaining: 59.7ms\n",
            "980:\tlearn: 0.3817791\ttotal: 2.93s\tremaining: 56.7ms\n",
            "981:\tlearn: 0.3817071\ttotal: 2.93s\tremaining: 53.7ms\n",
            "982:\tlearn: 0.3816918\ttotal: 2.93s\tremaining: 50.7ms\n",
            "983:\tlearn: 0.3816220\ttotal: 2.93s\tremaining: 47.7ms\n",
            "984:\tlearn: 0.3815275\ttotal: 2.94s\tremaining: 44.7ms\n",
            "985:\tlearn: 0.3814824\ttotal: 2.94s\tremaining: 41.7ms\n",
            "986:\tlearn: 0.3814130\ttotal: 2.94s\tremaining: 38.8ms\n",
            "987:\tlearn: 0.3813248\ttotal: 2.95s\tremaining: 35.8ms\n",
            "988:\tlearn: 0.3812353\ttotal: 2.95s\tremaining: 32.8ms\n",
            "989:\tlearn: 0.3811644\ttotal: 2.95s\tremaining: 29.8ms\n",
            "990:\tlearn: 0.3811264\ttotal: 2.95s\tremaining: 26.8ms\n",
            "991:\tlearn: 0.3810035\ttotal: 2.96s\tremaining: 23.9ms\n",
            "992:\tlearn: 0.3809288\ttotal: 2.96s\tremaining: 20.9ms\n",
            "993:\tlearn: 0.3808779\ttotal: 2.96s\tremaining: 17.9ms\n",
            "994:\tlearn: 0.3808170\ttotal: 2.97s\tremaining: 14.9ms\n",
            "995:\tlearn: 0.3807475\ttotal: 2.97s\tremaining: 11.9ms\n",
            "996:\tlearn: 0.3806537\ttotal: 2.97s\tremaining: 8.94ms\n",
            "997:\tlearn: 0.3805658\ttotal: 2.97s\tremaining: 5.96ms\n",
            "998:\tlearn: 0.3804737\ttotal: 2.98s\tremaining: 2.98ms\n",
            "999:\tlearn: 0.3804371\ttotal: 2.98s\tremaining: 0us\n"
          ]
        },
        {
          "output_type": "execute_result",
          "data": {
            "text/plain": [
              "<catboost.core.CatBoostClassifier at 0x7f7948840c10>"
            ]
          },
          "metadata": {},
          "execution_count": 30
        }
      ]
    },
    {
      "cell_type": "code",
      "source": [
        "y_pred = cat_base.predict(x_test)\n",
        "\n",
        "accuracy_score(y_pred, y_test)"
      ],
      "metadata": {
        "id": "tIP4iQ24iRSQ",
        "outputId": "333b45b0-dbf4-4071-bfa4-1aa4f5b3d086",
        "colab": {
          "base_uri": "https://localhost:8080/"
        }
      },
      "execution_count": 31,
      "outputs": [
        {
          "output_type": "execute_result",
          "data": {
            "text/plain": [
              "0.7746741154562383"
            ]
          },
          "metadata": {},
          "execution_count": 31
        }
      ]
    },
    {
      "cell_type": "code",
      "source": [
        "xg_base = XGBClassifier()\n",
        "xg_base.fit(x_train, y_train)"
      ],
      "metadata": {
        "id": "IyA91giVibD9",
        "outputId": "22e08383-082e-4e84-b4ea-11d43d6fc5cd",
        "colab": {
          "base_uri": "https://localhost:8080/"
        }
      },
      "execution_count": 32,
      "outputs": [
        {
          "output_type": "execute_result",
          "data": {
            "text/plain": [
              "XGBClassifier()"
            ]
          },
          "metadata": {},
          "execution_count": 32
        }
      ]
    },
    {
      "cell_type": "code",
      "source": [
        "lgbm_base = LGBMClassifier()\n",
        "lgbm_base.fit(x_train, y_train)"
      ],
      "metadata": {
        "id": "Tt71782picMU",
        "outputId": "3c294dcb-3734-4e1f-8120-35b8a3c46e3c",
        "colab": {
          "base_uri": "https://localhost:8080/"
        }
      },
      "execution_count": 33,
      "outputs": [
        {
          "output_type": "execute_result",
          "data": {
            "text/plain": [
              "LGBMClassifier()"
            ]
          },
          "metadata": {},
          "execution_count": 33
        }
      ]
    },
    {
      "cell_type": "code",
      "source": [
        "y_pred = xg_base.predict(x_test)\n",
        "\n",
        "accuracy_score(y_pred, y_test)"
      ],
      "metadata": {
        "id": "hd8Aoy52i-il",
        "outputId": "3fe2fd14-d122-43d8-9f11-28657be33a0b",
        "colab": {
          "base_uri": "https://localhost:8080/"
        }
      },
      "execution_count": 34,
      "outputs": [
        {
          "output_type": "execute_result",
          "data": {
            "text/plain": [
              "0.7821229050279329"
            ]
          },
          "metadata": {},
          "execution_count": 34
        }
      ]
    },
    {
      "cell_type": "code",
      "source": [
        "y_pred = lgbm_base.predict(x_test)\n",
        "\n",
        "accuracy_score(y_pred, y_test)"
      ],
      "metadata": {
        "id": "TrjxYj51jDnt",
        "outputId": "7a678803-80b0-4970-e391-7156b9bf86a6",
        "colab": {
          "base_uri": "https://localhost:8080/"
        }
      },
      "execution_count": 35,
      "outputs": [
        {
          "output_type": "execute_result",
          "data": {
            "text/plain": [
              "0.7723463687150838"
            ]
          },
          "metadata": {},
          "execution_count": 35
        }
      ]
    }
  ],
  "metadata": {
    "colab": {
      "collapsed_sections": [],
      "provenance": [],
      "mount_file_id": "1RWCkOzaMRsj0SVo2DQgula9F33qIcF8p",
      "authorship_tag": "ABX9TyNni+SZe9Ycuiy+qEJ7iou6"
    },
    "kernelspec": {
      "display_name": "Python 3",
      "name": "python3"
    },
    "language_info": {
      "name": "python"
    }
  },
  "nbformat": 4,
  "nbformat_minor": 0
}